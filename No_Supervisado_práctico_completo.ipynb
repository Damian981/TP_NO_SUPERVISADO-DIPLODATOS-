{
 "metadata": {
  "language_info": {
   "codemirror_mode": {
    "name": "ipython",
    "version": 3
   },
   "file_extension": ".py",
   "mimetype": "text/x-python",
   "name": "python",
   "nbconvert_exporter": "python",
   "pygments_lexer": "ipython3",
   "version": "3.7.6-final"
  },
  "orig_nbformat": 2,
  "kernelspec": {
   "name": "Python 3.7.6 64-bit ('base': conda)",
   "display_name": "Python 3.7.6 64-bit ('base': conda)",
   "metadata": {
    "interpreter": {
     "hash": "3c1ebc2dda91e911f9fe657425c71bc630e887df1d80465509fcee9ececf9720"
    }
   }
  }
 },
 "nbformat": 4,
 "nbformat_minor": 2,
 "cells": [
  {
   "source": [
    "<center>\n",
    "<img src=\"FIFA-20-background.jpg\" />"
   ],
   "cell_type": "markdown",
   "metadata": {}
  },
  {
   "source": [
    "### Índice de temas\n",
    "1. [Inicialización del entorno](#1.-Inicialización-del-entorno)\n",
    "2. [Análisis exploratorio](#2.-Análisis-exploratorio)\n",
    "3. [Clustering KM](#3.-Clustering-con-Kmeans)\n",
    "4. [Clustering MS](#4.-Clustering-con-Mean-Shift)\n",
    "5. [Clustering KM2](#5.-Clustering-con-Kmeans-sin-arqueros)\n",
    "6. [Clustering MS2](#6.-Clustering-con-Mean-Shift-sin-arqueros)"
   ],
   "cell_type": "markdown",
   "metadata": {}
  },
  {
   "source": [
    "## 1.-Inicialización-del-entorno"
   ],
   "cell_type": "markdown",
   "metadata": {}
  },
  {
   "source": [
    "**Carga de herramientas necesarias para manipulación y exploración de los datos.**"
   ],
   "cell_type": "markdown",
   "metadata": {}
  },
  {
   "cell_type": "code",
   "execution_count": 127,
   "metadata": {},
   "outputs": [],
   "source": [
    "import numpy as np\n",
    "import pandas as pd\n",
    "pd.set_option('display.max_columns',100)\n",
    "pd.set_option('display.max_rows',1000)\n",
    "import itertools\n",
    "import warnings\n",
    "warnings.filterwarnings(\"ignore\")\n",
    "import io"
   ]
  },
  {
   "source": [
    "**Carga de herramientas necesarias para visualización y gráficos.**"
   ],
   "cell_type": "markdown",
   "metadata": {}
  },
  {
   "cell_type": "code",
   "execution_count": 128,
   "metadata": {},
   "outputs": [
    {
     "output_type": "display_data",
     "data": {
      "text/html": "        <script type=\"text/javascript\">\n        window.PlotlyConfig = {MathJaxConfig: 'local'};\n        if (window.MathJax) {MathJax.Hub.Config({SVG: {font: \"STIX-Web\"}});}\n        if (typeof require !== 'undefined') {\n        require.undef(\"plotly\");\n        requirejs.config({\n            paths: {\n                'plotly': ['https://cdn.plot.ly/plotly-latest.min']\n            }\n        });\n        require(['plotly'], function(Plotly) {\n            window._Plotly = Plotly;\n        });\n        }\n        </script>\n        "
     },
     "metadata": {}
    }
   ],
   "source": [
    "from plotly.offline import init_notebook_mode, plot,iplot\n",
    "import plotly.graph_objs as go\n",
    "init_notebook_mode(connected=True)\n",
    "import matplotlib.pyplot as plt\n",
    "import plotly.tools as tls#visualization\n",
    "import plotly.figure_factory as ff#visualization\n",
    "import seaborn as sns"
   ]
  },
  {
   "source": [
    "## 2.-Análisis-exploratorio"
   ],
   "cell_type": "markdown",
   "metadata": {}
  },
  {
   "source": [
    "**Cargamos los datos bajados de la database de [Kaggle](https://www.kaggle.com/karangadiya/fifa20) (https://www.kaggle.com/karangadiya/fifa20) como 'data.csv'.** "
   ],
   "cell_type": "markdown",
   "metadata": {}
  },
  {
   "cell_type": "code",
   "execution_count": 129,
   "metadata": {},
   "outputs": [
    {
     "output_type": "execute_result",
     "data": {
      "text/plain": [
       "   sofifa_id                                         player_url  \\\n",
       "0     158023  https://sofifa.com/player/158023/lionel-messi/...   \n",
       "1      20801  https://sofifa.com/player/20801/c-ronaldo-dos-...   \n",
       "2     190871  https://sofifa.com/player/190871/neymar-da-sil...   \n",
       "3     200389  https://sofifa.com/player/200389/jan-oblak/20/...   \n",
       "\n",
       "          short_name                            long_name  age         dob  \\\n",
       "0           L. Messi       Lionel Andrés Messi Cuccittini   32  1987-06-24   \n",
       "1  Cristiano Ronaldo  Cristiano Ronaldo dos Santos Aveiro   34  1985-02-05   \n",
       "2          Neymar Jr        Neymar da Silva Santos Junior   27  1992-02-05   \n",
       "3           J. Oblak                            Jan Oblak   26  1993-01-07   \n",
       "\n",
       "   height_cm  weight_kg nationality                 club  overall  potential  \\\n",
       "0        170         72   Argentina         FC Barcelona       94         94   \n",
       "1        187         83    Portugal             Juventus       93         93   \n",
       "2        175         68      Brazil  Paris Saint-Germain       92         92   \n",
       "3        188         87    Slovenia      Atlético Madrid       91         93   \n",
       "\n",
       "   value_eur  wage_eur player_positions preferred_foot  \\\n",
       "0   95500000    565000       RW, CF, ST           Left   \n",
       "1   58500000    405000           ST, LW          Right   \n",
       "2  105500000    290000          LW, CAM          Right   \n",
       "3   77500000    125000               GK          Right   \n",
       "\n",
       "   international_reputation  weak_foot  skill_moves      work_rate  \\\n",
       "0                         5          4            4     Medium/Low   \n",
       "1                         5          4            5       High/Low   \n",
       "2                         5          5            5    High/Medium   \n",
       "3                         3          3            1  Medium/Medium   \n",
       "\n",
       "    body_type real_face  release_clause_eur  \\\n",
       "0       Messi       Yes         195800000.0   \n",
       "1  C. Ronaldo       Yes          96500000.0   \n",
       "2      Neymar       Yes         195200000.0   \n",
       "3      Normal       Yes         164700000.0   \n",
       "\n",
       "                                         player_tags team_position  \\\n",
       "0  #Dribbler, #Distance Shooter, #Crosser, #FK Sp...            RW   \n",
       "1  #Speedster, #Dribbler, #Distance Shooter, #Acr...            LW   \n",
       "2  #Speedster, #Dribbler, #Playmaker  , #Crosser,...           CAM   \n",
       "3                                                NaN            GK   \n",
       "\n",
       "   team_jersey_number loaned_from      joined  contract_valid_until  \\\n",
       "0                10.0         NaN  2004-07-01                2021.0   \n",
       "1                 7.0         NaN  2018-07-10                2022.0   \n",
       "2                10.0         NaN  2017-08-03                2022.0   \n",
       "3                13.0         NaN  2014-07-16                2023.0   \n",
       "\n",
       "  nation_position  nation_jersey_number  pace  shooting  passing  dribbling  \\\n",
       "0             NaN                   NaN  87.0      92.0     92.0       96.0   \n",
       "1              LS                   7.0  90.0      93.0     82.0       89.0   \n",
       "2              LW                  10.0  91.0      85.0     87.0       95.0   \n",
       "3              GK                   1.0   NaN       NaN      NaN        NaN   \n",
       "\n",
       "   defending  physic  gk_diving  gk_handling  gk_kicking  gk_reflexes  \\\n",
       "0       39.0    66.0        NaN          NaN         NaN          NaN   \n",
       "1       35.0    78.0        NaN          NaN         NaN          NaN   \n",
       "2       32.0    58.0        NaN          NaN         NaN          NaN   \n",
       "3        NaN     NaN       87.0         92.0        78.0         89.0   \n",
       "\n",
       "   gk_speed  gk_positioning  \\\n",
       "0       NaN             NaN   \n",
       "1       NaN             NaN   \n",
       "2       NaN             NaN   \n",
       "3      52.0            90.0   \n",
       "\n",
       "                                       player_traits  attacking_crossing  \\\n",
       "0  Beat Offside Trap, Argues with Officials, Earl...                  88   \n",
       "1  Long Throw-in, Selfish, Argues with Officials,...                  84   \n",
       "2  Power Free-Kick, Injury Free, Selfish, Early C...                  87   \n",
       "3                         Flair, Acrobatic Clearance                  13   \n",
       "\n",
       "   attacking_finishing  attacking_heading_accuracy  attacking_short_passing  \\\n",
       "0                   95                          70                       92   \n",
       "1                   94                          89                       83   \n",
       "2                   87                          62                       87   \n",
       "3                   11                          15                       43   \n",
       "\n",
       "   attacking_volleys  skill_dribbling  ...  movement_acceleration  \\\n",
       "0                 88               97  ...                     91   \n",
       "1                 87               89  ...                     89   \n",
       "2                 87               96  ...                     94   \n",
       "3                 13               12  ...                     43   \n",
       "\n",
       "   movement_sprint_speed  movement_agility  movement_reactions  \\\n",
       "0                     84                93                  95   \n",
       "1                     91                87                  96   \n",
       "2                     89                96                  92   \n",
       "3                     60                67                  88   \n",
       "\n",
       "   movement_balance  power_shot_power  power_jumping  power_stamina  \\\n",
       "0                95                86             68             75   \n",
       "1                71                95             95             85   \n",
       "2                84                80             61             81   \n",
       "3                49                59             78             41   \n",
       "\n",
       "   power_strength  power_long_shots  mentality_aggression  \\\n",
       "0              68                94                    48   \n",
       "1              78                93                    63   \n",
       "2              49                84                    51   \n",
       "3              78                12                    34   \n",
       "\n",
       "   mentality_interceptions  mentality_positioning  mentality_vision  \\\n",
       "0                       40                     94                94   \n",
       "1                       29                     95                82   \n",
       "2                       36                     87                90   \n",
       "3                       19                     11                65   \n",
       "\n",
       "   mentality_penalties  mentality_composure  defending_marking  \\\n",
       "0                   75                   96                 33   \n",
       "1                   85                   95                 28   \n",
       "2                   90                   94                 27   \n",
       "3                   11                   68                 27   \n",
       "\n",
       "   defending_standing_tackle  defending_sliding_tackle  goalkeeping_diving  \\\n",
       "0                         37                        26                   6   \n",
       "1                         32                        24                   7   \n",
       "2                         26                        29                   9   \n",
       "3                         12                        18                  87   \n",
       "\n",
       "   goalkeeping_handling  goalkeeping_kicking  goalkeeping_positioning  \\\n",
       "0                    11                   15                       14   \n",
       "1                    11                   15                       14   \n",
       "2                     9                   15                       15   \n",
       "3                    92                   78                       90   \n",
       "\n",
       "   goalkeeping_reflexes    ls    st    rs    lw    lf    cf    rf    rw   lam  \\\n",
       "0                     8  89+2  89+2  89+2  93+2  93+2  93+2  93+2  93+2  93+2   \n",
       "1                    11  91+3  91+3  91+3  89+3  90+3  90+3  90+3  89+3  88+3   \n",
       "2                    11  84+3  84+3  84+3  90+3  89+3  89+3  89+3  90+3  90+3   \n",
       "3                    89   NaN   NaN   NaN   NaN   NaN   NaN   NaN   NaN   NaN   \n",
       "\n",
       "    cam   ram    lm   lcm    cm   rcm    rm   lwb   ldm   cdm   rdm   rwb  \\\n",
       "0  93+2  93+2  92+2  87+2  87+2  87+2  92+2  68+2  66+2  66+2  66+2  68+2   \n",
       "1  88+3  88+3  88+3  81+3  81+3  81+3  88+3  65+3  61+3  61+3  61+3  65+3   \n",
       "2  90+3  90+3  89+3  82+3  82+3  82+3  89+3  66+3  61+3  61+3  61+3  66+3   \n",
       "3   NaN   NaN   NaN   NaN   NaN   NaN   NaN   NaN   NaN   NaN   NaN   NaN   \n",
       "\n",
       "     lb   lcb    cb   rcb    rb  \n",
       "0  63+2  52+2  52+2  52+2  63+2  \n",
       "1  61+3  53+3  53+3  53+3  61+3  \n",
       "2  61+3  46+3  46+3  46+3  61+3  \n",
       "3   NaN   NaN   NaN   NaN   NaN  \n",
       "\n",
       "[4 rows x 104 columns]"
      ],
      "text/html": "<div>\n<style scoped>\n    .dataframe tbody tr th:only-of-type {\n        vertical-align: middle;\n    }\n\n    .dataframe tbody tr th {\n        vertical-align: top;\n    }\n\n    .dataframe thead th {\n        text-align: right;\n    }\n</style>\n<table border=\"1\" class=\"dataframe\">\n  <thead>\n    <tr style=\"text-align: right;\">\n      <th></th>\n      <th>sofifa_id</th>\n      <th>player_url</th>\n      <th>short_name</th>\n      <th>long_name</th>\n      <th>age</th>\n      <th>dob</th>\n      <th>height_cm</th>\n      <th>weight_kg</th>\n      <th>nationality</th>\n      <th>club</th>\n      <th>overall</th>\n      <th>potential</th>\n      <th>value_eur</th>\n      <th>wage_eur</th>\n      <th>player_positions</th>\n      <th>preferred_foot</th>\n      <th>international_reputation</th>\n      <th>weak_foot</th>\n      <th>skill_moves</th>\n      <th>work_rate</th>\n      <th>body_type</th>\n      <th>real_face</th>\n      <th>release_clause_eur</th>\n      <th>player_tags</th>\n      <th>team_position</th>\n      <th>team_jersey_number</th>\n      <th>loaned_from</th>\n      <th>joined</th>\n      <th>contract_valid_until</th>\n      <th>nation_position</th>\n      <th>nation_jersey_number</th>\n      <th>pace</th>\n      <th>shooting</th>\n      <th>passing</th>\n      <th>dribbling</th>\n      <th>defending</th>\n      <th>physic</th>\n      <th>gk_diving</th>\n      <th>gk_handling</th>\n      <th>gk_kicking</th>\n      <th>gk_reflexes</th>\n      <th>gk_speed</th>\n      <th>gk_positioning</th>\n      <th>player_traits</th>\n      <th>attacking_crossing</th>\n      <th>attacking_finishing</th>\n      <th>attacking_heading_accuracy</th>\n      <th>attacking_short_passing</th>\n      <th>attacking_volleys</th>\n      <th>skill_dribbling</th>\n      <th>...</th>\n      <th>movement_acceleration</th>\n      <th>movement_sprint_speed</th>\n      <th>movement_agility</th>\n      <th>movement_reactions</th>\n      <th>movement_balance</th>\n      <th>power_shot_power</th>\n      <th>power_jumping</th>\n      <th>power_stamina</th>\n      <th>power_strength</th>\n      <th>power_long_shots</th>\n      <th>mentality_aggression</th>\n      <th>mentality_interceptions</th>\n      <th>mentality_positioning</th>\n      <th>mentality_vision</th>\n      <th>mentality_penalties</th>\n      <th>mentality_composure</th>\n      <th>defending_marking</th>\n      <th>defending_standing_tackle</th>\n      <th>defending_sliding_tackle</th>\n      <th>goalkeeping_diving</th>\n      <th>goalkeeping_handling</th>\n      <th>goalkeeping_kicking</th>\n      <th>goalkeeping_positioning</th>\n      <th>goalkeeping_reflexes</th>\n      <th>ls</th>\n      <th>st</th>\n      <th>rs</th>\n      <th>lw</th>\n      <th>lf</th>\n      <th>cf</th>\n      <th>rf</th>\n      <th>rw</th>\n      <th>lam</th>\n      <th>cam</th>\n      <th>ram</th>\n      <th>lm</th>\n      <th>lcm</th>\n      <th>cm</th>\n      <th>rcm</th>\n      <th>rm</th>\n      <th>lwb</th>\n      <th>ldm</th>\n      <th>cdm</th>\n      <th>rdm</th>\n      <th>rwb</th>\n      <th>lb</th>\n      <th>lcb</th>\n      <th>cb</th>\n      <th>rcb</th>\n      <th>rb</th>\n    </tr>\n  </thead>\n  <tbody>\n    <tr>\n      <th>0</th>\n      <td>158023</td>\n      <td>https://sofifa.com/player/158023/lionel-messi/...</td>\n      <td>L. Messi</td>\n      <td>Lionel Andrés Messi Cuccittini</td>\n      <td>32</td>\n      <td>1987-06-24</td>\n      <td>170</td>\n      <td>72</td>\n      <td>Argentina</td>\n      <td>FC Barcelona</td>\n      <td>94</td>\n      <td>94</td>\n      <td>95500000</td>\n      <td>565000</td>\n      <td>RW, CF, ST</td>\n      <td>Left</td>\n      <td>5</td>\n      <td>4</td>\n      <td>4</td>\n      <td>Medium/Low</td>\n      <td>Messi</td>\n      <td>Yes</td>\n      <td>195800000.0</td>\n      <td>#Dribbler, #Distance Shooter, #Crosser, #FK Sp...</td>\n      <td>RW</td>\n      <td>10.0</td>\n      <td>NaN</td>\n      <td>2004-07-01</td>\n      <td>2021.0</td>\n      <td>NaN</td>\n      <td>NaN</td>\n      <td>87.0</td>\n      <td>92.0</td>\n      <td>92.0</td>\n      <td>96.0</td>\n      <td>39.0</td>\n      <td>66.0</td>\n      <td>NaN</td>\n      <td>NaN</td>\n      <td>NaN</td>\n      <td>NaN</td>\n      <td>NaN</td>\n      <td>NaN</td>\n      <td>Beat Offside Trap, Argues with Officials, Earl...</td>\n      <td>88</td>\n      <td>95</td>\n      <td>70</td>\n      <td>92</td>\n      <td>88</td>\n      <td>97</td>\n      <td>...</td>\n      <td>91</td>\n      <td>84</td>\n      <td>93</td>\n      <td>95</td>\n      <td>95</td>\n      <td>86</td>\n      <td>68</td>\n      <td>75</td>\n      <td>68</td>\n      <td>94</td>\n      <td>48</td>\n      <td>40</td>\n      <td>94</td>\n      <td>94</td>\n      <td>75</td>\n      <td>96</td>\n      <td>33</td>\n      <td>37</td>\n      <td>26</td>\n      <td>6</td>\n      <td>11</td>\n      <td>15</td>\n      <td>14</td>\n      <td>8</td>\n      <td>89+2</td>\n      <td>89+2</td>\n      <td>89+2</td>\n      <td>93+2</td>\n      <td>93+2</td>\n      <td>93+2</td>\n      <td>93+2</td>\n      <td>93+2</td>\n      <td>93+2</td>\n      <td>93+2</td>\n      <td>93+2</td>\n      <td>92+2</td>\n      <td>87+2</td>\n      <td>87+2</td>\n      <td>87+2</td>\n      <td>92+2</td>\n      <td>68+2</td>\n      <td>66+2</td>\n      <td>66+2</td>\n      <td>66+2</td>\n      <td>68+2</td>\n      <td>63+2</td>\n      <td>52+2</td>\n      <td>52+2</td>\n      <td>52+2</td>\n      <td>63+2</td>\n    </tr>\n    <tr>\n      <th>1</th>\n      <td>20801</td>\n      <td>https://sofifa.com/player/20801/c-ronaldo-dos-...</td>\n      <td>Cristiano Ronaldo</td>\n      <td>Cristiano Ronaldo dos Santos Aveiro</td>\n      <td>34</td>\n      <td>1985-02-05</td>\n      <td>187</td>\n      <td>83</td>\n      <td>Portugal</td>\n      <td>Juventus</td>\n      <td>93</td>\n      <td>93</td>\n      <td>58500000</td>\n      <td>405000</td>\n      <td>ST, LW</td>\n      <td>Right</td>\n      <td>5</td>\n      <td>4</td>\n      <td>5</td>\n      <td>High/Low</td>\n      <td>C. Ronaldo</td>\n      <td>Yes</td>\n      <td>96500000.0</td>\n      <td>#Speedster, #Dribbler, #Distance Shooter, #Acr...</td>\n      <td>LW</td>\n      <td>7.0</td>\n      <td>NaN</td>\n      <td>2018-07-10</td>\n      <td>2022.0</td>\n      <td>LS</td>\n      <td>7.0</td>\n      <td>90.0</td>\n      <td>93.0</td>\n      <td>82.0</td>\n      <td>89.0</td>\n      <td>35.0</td>\n      <td>78.0</td>\n      <td>NaN</td>\n      <td>NaN</td>\n      <td>NaN</td>\n      <td>NaN</td>\n      <td>NaN</td>\n      <td>NaN</td>\n      <td>Long Throw-in, Selfish, Argues with Officials,...</td>\n      <td>84</td>\n      <td>94</td>\n      <td>89</td>\n      <td>83</td>\n      <td>87</td>\n      <td>89</td>\n      <td>...</td>\n      <td>89</td>\n      <td>91</td>\n      <td>87</td>\n      <td>96</td>\n      <td>71</td>\n      <td>95</td>\n      <td>95</td>\n      <td>85</td>\n      <td>78</td>\n      <td>93</td>\n      <td>63</td>\n      <td>29</td>\n      <td>95</td>\n      <td>82</td>\n      <td>85</td>\n      <td>95</td>\n      <td>28</td>\n      <td>32</td>\n      <td>24</td>\n      <td>7</td>\n      <td>11</td>\n      <td>15</td>\n      <td>14</td>\n      <td>11</td>\n      <td>91+3</td>\n      <td>91+3</td>\n      <td>91+3</td>\n      <td>89+3</td>\n      <td>90+3</td>\n      <td>90+3</td>\n      <td>90+3</td>\n      <td>89+3</td>\n      <td>88+3</td>\n      <td>88+3</td>\n      <td>88+3</td>\n      <td>88+3</td>\n      <td>81+3</td>\n      <td>81+3</td>\n      <td>81+3</td>\n      <td>88+3</td>\n      <td>65+3</td>\n      <td>61+3</td>\n      <td>61+3</td>\n      <td>61+3</td>\n      <td>65+3</td>\n      <td>61+3</td>\n      <td>53+3</td>\n      <td>53+3</td>\n      <td>53+3</td>\n      <td>61+3</td>\n    </tr>\n    <tr>\n      <th>2</th>\n      <td>190871</td>\n      <td>https://sofifa.com/player/190871/neymar-da-sil...</td>\n      <td>Neymar Jr</td>\n      <td>Neymar da Silva Santos Junior</td>\n      <td>27</td>\n      <td>1992-02-05</td>\n      <td>175</td>\n      <td>68</td>\n      <td>Brazil</td>\n      <td>Paris Saint-Germain</td>\n      <td>92</td>\n      <td>92</td>\n      <td>105500000</td>\n      <td>290000</td>\n      <td>LW, CAM</td>\n      <td>Right</td>\n      <td>5</td>\n      <td>5</td>\n      <td>5</td>\n      <td>High/Medium</td>\n      <td>Neymar</td>\n      <td>Yes</td>\n      <td>195200000.0</td>\n      <td>#Speedster, #Dribbler, #Playmaker  , #Crosser,...</td>\n      <td>CAM</td>\n      <td>10.0</td>\n      <td>NaN</td>\n      <td>2017-08-03</td>\n      <td>2022.0</td>\n      <td>LW</td>\n      <td>10.0</td>\n      <td>91.0</td>\n      <td>85.0</td>\n      <td>87.0</td>\n      <td>95.0</td>\n      <td>32.0</td>\n      <td>58.0</td>\n      <td>NaN</td>\n      <td>NaN</td>\n      <td>NaN</td>\n      <td>NaN</td>\n      <td>NaN</td>\n      <td>NaN</td>\n      <td>Power Free-Kick, Injury Free, Selfish, Early C...</td>\n      <td>87</td>\n      <td>87</td>\n      <td>62</td>\n      <td>87</td>\n      <td>87</td>\n      <td>96</td>\n      <td>...</td>\n      <td>94</td>\n      <td>89</td>\n      <td>96</td>\n      <td>92</td>\n      <td>84</td>\n      <td>80</td>\n      <td>61</td>\n      <td>81</td>\n      <td>49</td>\n      <td>84</td>\n      <td>51</td>\n      <td>36</td>\n      <td>87</td>\n      <td>90</td>\n      <td>90</td>\n      <td>94</td>\n      <td>27</td>\n      <td>26</td>\n      <td>29</td>\n      <td>9</td>\n      <td>9</td>\n      <td>15</td>\n      <td>15</td>\n      <td>11</td>\n      <td>84+3</td>\n      <td>84+3</td>\n      <td>84+3</td>\n      <td>90+3</td>\n      <td>89+3</td>\n      <td>89+3</td>\n      <td>89+3</td>\n      <td>90+3</td>\n      <td>90+3</td>\n      <td>90+3</td>\n      <td>90+3</td>\n      <td>89+3</td>\n      <td>82+3</td>\n      <td>82+3</td>\n      <td>82+3</td>\n      <td>89+3</td>\n      <td>66+3</td>\n      <td>61+3</td>\n      <td>61+3</td>\n      <td>61+3</td>\n      <td>66+3</td>\n      <td>61+3</td>\n      <td>46+3</td>\n      <td>46+3</td>\n      <td>46+3</td>\n      <td>61+3</td>\n    </tr>\n    <tr>\n      <th>3</th>\n      <td>200389</td>\n      <td>https://sofifa.com/player/200389/jan-oblak/20/...</td>\n      <td>J. Oblak</td>\n      <td>Jan Oblak</td>\n      <td>26</td>\n      <td>1993-01-07</td>\n      <td>188</td>\n      <td>87</td>\n      <td>Slovenia</td>\n      <td>Atlético Madrid</td>\n      <td>91</td>\n      <td>93</td>\n      <td>77500000</td>\n      <td>125000</td>\n      <td>GK</td>\n      <td>Right</td>\n      <td>3</td>\n      <td>3</td>\n      <td>1</td>\n      <td>Medium/Medium</td>\n      <td>Normal</td>\n      <td>Yes</td>\n      <td>164700000.0</td>\n      <td>NaN</td>\n      <td>GK</td>\n      <td>13.0</td>\n      <td>NaN</td>\n      <td>2014-07-16</td>\n      <td>2023.0</td>\n      <td>GK</td>\n      <td>1.0</td>\n      <td>NaN</td>\n      <td>NaN</td>\n      <td>NaN</td>\n      <td>NaN</td>\n      <td>NaN</td>\n      <td>NaN</td>\n      <td>87.0</td>\n      <td>92.0</td>\n      <td>78.0</td>\n      <td>89.0</td>\n      <td>52.0</td>\n      <td>90.0</td>\n      <td>Flair, Acrobatic Clearance</td>\n      <td>13</td>\n      <td>11</td>\n      <td>15</td>\n      <td>43</td>\n      <td>13</td>\n      <td>12</td>\n      <td>...</td>\n      <td>43</td>\n      <td>60</td>\n      <td>67</td>\n      <td>88</td>\n      <td>49</td>\n      <td>59</td>\n      <td>78</td>\n      <td>41</td>\n      <td>78</td>\n      <td>12</td>\n      <td>34</td>\n      <td>19</td>\n      <td>11</td>\n      <td>65</td>\n      <td>11</td>\n      <td>68</td>\n      <td>27</td>\n      <td>12</td>\n      <td>18</td>\n      <td>87</td>\n      <td>92</td>\n      <td>78</td>\n      <td>90</td>\n      <td>89</td>\n      <td>NaN</td>\n      <td>NaN</td>\n      <td>NaN</td>\n      <td>NaN</td>\n      <td>NaN</td>\n      <td>NaN</td>\n      <td>NaN</td>\n      <td>NaN</td>\n      <td>NaN</td>\n      <td>NaN</td>\n      <td>NaN</td>\n      <td>NaN</td>\n      <td>NaN</td>\n      <td>NaN</td>\n      <td>NaN</td>\n      <td>NaN</td>\n      <td>NaN</td>\n      <td>NaN</td>\n      <td>NaN</td>\n      <td>NaN</td>\n      <td>NaN</td>\n      <td>NaN</td>\n      <td>NaN</td>\n      <td>NaN</td>\n      <td>NaN</td>\n      <td>NaN</td>\n    </tr>\n  </tbody>\n</table>\n<p>4 rows × 104 columns</p>\n</div>"
     },
     "metadata": {},
     "execution_count": 129
    }
   ],
   "source": [
    "df=pd.read_csv(\"players_20.csv\")\n",
    "df.head(4)"
   ]
  },
  {
   "cell_type": "code",
   "execution_count": 130,
   "metadata": {},
   "outputs": [
    {
     "output_type": "execute_result",
     "data": {
      "text/plain": [
       "       sofifa_id                                         player_url  \\\n",
       "18274     250995  https://sofifa.com/player/250995/mingjie-xiao/...   \n",
       "18275     252332  https://sofifa.com/player/252332/wei-zhang/20/...   \n",
       "18276     251110  https://sofifa.com/player/251110/haijian-wang/...   \n",
       "18277     233449  https://sofifa.com/player/233449/ximing-pan/20...   \n",
       "\n",
       "         short_name     long_name  age         dob  height_cm  weight_kg  \\\n",
       "18274  Xiao Mingjie  Mingjie Xiao   22  1997-01-01        177         66   \n",
       "18275     Zhang Wei            张威   19  2000-05-16        186         75   \n",
       "18276  Wang Haijian           汪海健   18  2000-08-02        185         74   \n",
       "18277    Pan Ximing           潘喜明   26  1993-01-11        182         78   \n",
       "\n",
       "      nationality                           club  overall  potential  \\\n",
       "18274    China PR               Shanghai SIPG FC       48         56   \n",
       "18275    China PR         Hebei China Fortune FC       48         56   \n",
       "18276    China PR  Shanghai Greenland Shenhua FC       48         54   \n",
       "18277    China PR         Hebei China Fortune FC       48         51   \n",
       "\n",
       "       value_eur  wage_eur player_positions preferred_foot  \\\n",
       "18274      40000      2000               CB          Right   \n",
       "18275      40000      1000               CM          Right   \n",
       "18276      40000      1000               CM          Right   \n",
       "18277      40000      2000               CM          Right   \n",
       "\n",
       "       international_reputation  weak_foot  skill_moves      work_rate  \\\n",
       "18274                         1          2            2  Medium/Medium   \n",
       "18275                         1          2            2     Low/Medium   \n",
       "18276                         1          2            2        Low/Low   \n",
       "18277                         1          3            2  Medium/Medium   \n",
       "\n",
       "      body_type real_face  release_clause_eur player_tags team_position  \\\n",
       "18274    Normal        No             72000.0         NaN           SUB   \n",
       "18275      Lean        No             70000.0         NaN           SUB   \n",
       "18276      Lean        No             70000.0         NaN           SUB   \n",
       "18277    Normal        No                 NaN         NaN           SUB   \n",
       "\n",
       "       team_jersey_number      loaned_from      joined  contract_valid_until  \\\n",
       "18274                31.0              NaN  2019-02-01                2022.0   \n",
       "18275                38.0              NaN  2019-01-01                2019.0   \n",
       "18276                33.0              NaN  2019-02-01                2022.0   \n",
       "18277                37.0  Tianjin TEDA FC         NaN                2019.0   \n",
       "\n",
       "      nation_position  nation_jersey_number  pace  shooting  passing  \\\n",
       "18274             NaN                   NaN  58.0      24.0     33.0   \n",
       "18275             NaN                   NaN  54.0      35.0     44.0   \n",
       "18276             NaN                   NaN  59.0      35.0     47.0   \n",
       "18277             NaN                   NaN  60.0      32.0     51.0   \n",
       "\n",
       "       dribbling  defending  physic  gk_diving  gk_handling  gk_kicking  \\\n",
       "18274       35.0       48.0    48.0        NaN          NaN         NaN   \n",
       "18275       45.0       48.0    51.0        NaN          NaN         NaN   \n",
       "18276       47.0       45.0    52.0        NaN          NaN         NaN   \n",
       "18277       45.0       47.0    55.0        NaN          NaN         NaN   \n",
       "\n",
       "       gk_reflexes  gk_speed  gk_positioning player_traits  \\\n",
       "18274          NaN       NaN             NaN           NaN   \n",
       "18275          NaN       NaN             NaN           NaN   \n",
       "18276          NaN       NaN             NaN           NaN   \n",
       "18277          NaN       NaN             NaN           NaN   \n",
       "\n",
       "       attacking_crossing  attacking_finishing  attacking_heading_accuracy  \\\n",
       "18274                  24                   20                          42   \n",
       "18275                  32                   33                          49   \n",
       "18276                  39                   34                          47   \n",
       "18277                  44                   30                          48   \n",
       "\n",
       "       attacking_short_passing  attacking_volleys  skill_dribbling  ...  \\\n",
       "18274                       43                 28               32  ...   \n",
       "18275                       53                 32               40  ...   \n",
       "18276                       54                 28               42  ...   \n",
       "18277                       58                 25               40  ...   \n",
       "\n",
       "       movement_acceleration  movement_sprint_speed  movement_agility  \\\n",
       "18274                     55                     61                43   \n",
       "18275                     55                     54                52   \n",
       "18276                     55                     63                55   \n",
       "18277                     54                     64                52   \n",
       "\n",
       "       movement_reactions  movement_balance  power_shot_power  power_jumping  \\\n",
       "18274                  41                76                33             72   \n",
       "18275                  52                57                48             60   \n",
       "18276                  54                59                46             61   \n",
       "18277                  49                71                41             64   \n",
       "\n",
       "       power_stamina  power_strength  power_long_shots  mentality_aggression  \\\n",
       "18274             55              44                20                    42   \n",
       "18275             50              51                26                    50   \n",
       "18276             42              55                28                    57   \n",
       "18277             40              61                30                    54   \n",
       "\n",
       "       mentality_interceptions  mentality_positioning  mentality_vision  \\\n",
       "18274                       49                     23                25   \n",
       "18275                       45                     38                38   \n",
       "18276                       49                     31                48   \n",
       "18277                       47                     29                52   \n",
       "\n",
       "       mentality_penalties  mentality_composure  defending_marking  \\\n",
       "18274                   37                   35                 42   \n",
       "18275                   36                   39                 46   \n",
       "18276                   36                   40                 39   \n",
       "18277                   38                   42                 52   \n",
       "\n",
       "       defending_standing_tackle  defending_sliding_tackle  \\\n",
       "18274                         53                        57   \n",
       "18275                         52                        46   \n",
       "18276                         44                        54   \n",
       "18277                         42                        48   \n",
       "\n",
       "       goalkeeping_diving  goalkeeping_handling  goalkeeping_kicking  \\\n",
       "18274                  13                     6                   14   \n",
       "18275                   7                     8                   10   \n",
       "18276                  14                     9                   13   \n",
       "18277                   8                    12                   14   \n",
       "\n",
       "       goalkeeping_positioning  goalkeeping_reflexes    ls    st    rs    lw  \\\n",
       "18274                       11                     9  33+2  33+2  33+2  33+2   \n",
       "18275                        6                    14  43+2  43+2  43+2  43+2   \n",
       "18276                       13                    13  43+2  43+2  43+2  45+2   \n",
       "18277                        9                    10  42+2  42+2  42+2  44+2   \n",
       "\n",
       "         lf    cf    rf    rw   lam   cam   ram    lm   lcm    cm   rcm    rm  \\\n",
       "18274  32+2  32+2  32+2  33+2  33+2  33+2  33+2  35+2  36+2  36+2  36+2  35+2   \n",
       "18275  43+2  43+2  43+2  43+2  44+2  44+2  44+2  45+2  46+2  46+2  46+2  45+2   \n",
       "18276  44+2  44+2  44+2  45+2  46+2  46+2  46+2  46+2  46+2  46+2  46+2  46+2   \n",
       "18277  43+2  43+2  43+2  44+2  46+2  46+2  46+2  46+2  46+2  46+2  46+2  46+2   \n",
       "\n",
       "        lwb   ldm   cdm   rdm   rwb    lb   lcb    cb   rcb    rb  \n",
       "18274  44+2  43+2  43+2  43+2  44+2  46+2  47+2  47+2  47+2  46+2  \n",
       "18275  47+2  49+2  49+2  49+2  47+2  47+2  49+2  49+2  49+2  47+2  \n",
       "18276  48+2  48+2  48+2  48+2  48+2  48+2  49+2  49+2  49+2  48+2  \n",
       "18277  48+2  49+2  49+2  49+2  48+2  48+2  50+2  50+2  50+2  48+2  \n",
       "\n",
       "[4 rows x 104 columns]"
      ],
      "text/html": "<div>\n<style scoped>\n    .dataframe tbody tr th:only-of-type {\n        vertical-align: middle;\n    }\n\n    .dataframe tbody tr th {\n        vertical-align: top;\n    }\n\n    .dataframe thead th {\n        text-align: right;\n    }\n</style>\n<table border=\"1\" class=\"dataframe\">\n  <thead>\n    <tr style=\"text-align: right;\">\n      <th></th>\n      <th>sofifa_id</th>\n      <th>player_url</th>\n      <th>short_name</th>\n      <th>long_name</th>\n      <th>age</th>\n      <th>dob</th>\n      <th>height_cm</th>\n      <th>weight_kg</th>\n      <th>nationality</th>\n      <th>club</th>\n      <th>overall</th>\n      <th>potential</th>\n      <th>value_eur</th>\n      <th>wage_eur</th>\n      <th>player_positions</th>\n      <th>preferred_foot</th>\n      <th>international_reputation</th>\n      <th>weak_foot</th>\n      <th>skill_moves</th>\n      <th>work_rate</th>\n      <th>body_type</th>\n      <th>real_face</th>\n      <th>release_clause_eur</th>\n      <th>player_tags</th>\n      <th>team_position</th>\n      <th>team_jersey_number</th>\n      <th>loaned_from</th>\n      <th>joined</th>\n      <th>contract_valid_until</th>\n      <th>nation_position</th>\n      <th>nation_jersey_number</th>\n      <th>pace</th>\n      <th>shooting</th>\n      <th>passing</th>\n      <th>dribbling</th>\n      <th>defending</th>\n      <th>physic</th>\n      <th>gk_diving</th>\n      <th>gk_handling</th>\n      <th>gk_kicking</th>\n      <th>gk_reflexes</th>\n      <th>gk_speed</th>\n      <th>gk_positioning</th>\n      <th>player_traits</th>\n      <th>attacking_crossing</th>\n      <th>attacking_finishing</th>\n      <th>attacking_heading_accuracy</th>\n      <th>attacking_short_passing</th>\n      <th>attacking_volleys</th>\n      <th>skill_dribbling</th>\n      <th>...</th>\n      <th>movement_acceleration</th>\n      <th>movement_sprint_speed</th>\n      <th>movement_agility</th>\n      <th>movement_reactions</th>\n      <th>movement_balance</th>\n      <th>power_shot_power</th>\n      <th>power_jumping</th>\n      <th>power_stamina</th>\n      <th>power_strength</th>\n      <th>power_long_shots</th>\n      <th>mentality_aggression</th>\n      <th>mentality_interceptions</th>\n      <th>mentality_positioning</th>\n      <th>mentality_vision</th>\n      <th>mentality_penalties</th>\n      <th>mentality_composure</th>\n      <th>defending_marking</th>\n      <th>defending_standing_tackle</th>\n      <th>defending_sliding_tackle</th>\n      <th>goalkeeping_diving</th>\n      <th>goalkeeping_handling</th>\n      <th>goalkeeping_kicking</th>\n      <th>goalkeeping_positioning</th>\n      <th>goalkeeping_reflexes</th>\n      <th>ls</th>\n      <th>st</th>\n      <th>rs</th>\n      <th>lw</th>\n      <th>lf</th>\n      <th>cf</th>\n      <th>rf</th>\n      <th>rw</th>\n      <th>lam</th>\n      <th>cam</th>\n      <th>ram</th>\n      <th>lm</th>\n      <th>lcm</th>\n      <th>cm</th>\n      <th>rcm</th>\n      <th>rm</th>\n      <th>lwb</th>\n      <th>ldm</th>\n      <th>cdm</th>\n      <th>rdm</th>\n      <th>rwb</th>\n      <th>lb</th>\n      <th>lcb</th>\n      <th>cb</th>\n      <th>rcb</th>\n      <th>rb</th>\n    </tr>\n  </thead>\n  <tbody>\n    <tr>\n      <th>18274</th>\n      <td>250995</td>\n      <td>https://sofifa.com/player/250995/mingjie-xiao/...</td>\n      <td>Xiao Mingjie</td>\n      <td>Mingjie Xiao</td>\n      <td>22</td>\n      <td>1997-01-01</td>\n      <td>177</td>\n      <td>66</td>\n      <td>China PR</td>\n      <td>Shanghai SIPG FC</td>\n      <td>48</td>\n      <td>56</td>\n      <td>40000</td>\n      <td>2000</td>\n      <td>CB</td>\n      <td>Right</td>\n      <td>1</td>\n      <td>2</td>\n      <td>2</td>\n      <td>Medium/Medium</td>\n      <td>Normal</td>\n      <td>No</td>\n      <td>72000.0</td>\n      <td>NaN</td>\n      <td>SUB</td>\n      <td>31.0</td>\n      <td>NaN</td>\n      <td>2019-02-01</td>\n      <td>2022.0</td>\n      <td>NaN</td>\n      <td>NaN</td>\n      <td>58.0</td>\n      <td>24.0</td>\n      <td>33.0</td>\n      <td>35.0</td>\n      <td>48.0</td>\n      <td>48.0</td>\n      <td>NaN</td>\n      <td>NaN</td>\n      <td>NaN</td>\n      <td>NaN</td>\n      <td>NaN</td>\n      <td>NaN</td>\n      <td>NaN</td>\n      <td>24</td>\n      <td>20</td>\n      <td>42</td>\n      <td>43</td>\n      <td>28</td>\n      <td>32</td>\n      <td>...</td>\n      <td>55</td>\n      <td>61</td>\n      <td>43</td>\n      <td>41</td>\n      <td>76</td>\n      <td>33</td>\n      <td>72</td>\n      <td>55</td>\n      <td>44</td>\n      <td>20</td>\n      <td>42</td>\n      <td>49</td>\n      <td>23</td>\n      <td>25</td>\n      <td>37</td>\n      <td>35</td>\n      <td>42</td>\n      <td>53</td>\n      <td>57</td>\n      <td>13</td>\n      <td>6</td>\n      <td>14</td>\n      <td>11</td>\n      <td>9</td>\n      <td>33+2</td>\n      <td>33+2</td>\n      <td>33+2</td>\n      <td>33+2</td>\n      <td>32+2</td>\n      <td>32+2</td>\n      <td>32+2</td>\n      <td>33+2</td>\n      <td>33+2</td>\n      <td>33+2</td>\n      <td>33+2</td>\n      <td>35+2</td>\n      <td>36+2</td>\n      <td>36+2</td>\n      <td>36+2</td>\n      <td>35+2</td>\n      <td>44+2</td>\n      <td>43+2</td>\n      <td>43+2</td>\n      <td>43+2</td>\n      <td>44+2</td>\n      <td>46+2</td>\n      <td>47+2</td>\n      <td>47+2</td>\n      <td>47+2</td>\n      <td>46+2</td>\n    </tr>\n    <tr>\n      <th>18275</th>\n      <td>252332</td>\n      <td>https://sofifa.com/player/252332/wei-zhang/20/...</td>\n      <td>Zhang Wei</td>\n      <td>张威</td>\n      <td>19</td>\n      <td>2000-05-16</td>\n      <td>186</td>\n      <td>75</td>\n      <td>China PR</td>\n      <td>Hebei China Fortune FC</td>\n      <td>48</td>\n      <td>56</td>\n      <td>40000</td>\n      <td>1000</td>\n      <td>CM</td>\n      <td>Right</td>\n      <td>1</td>\n      <td>2</td>\n      <td>2</td>\n      <td>Low/Medium</td>\n      <td>Lean</td>\n      <td>No</td>\n      <td>70000.0</td>\n      <td>NaN</td>\n      <td>SUB</td>\n      <td>38.0</td>\n      <td>NaN</td>\n      <td>2019-01-01</td>\n      <td>2019.0</td>\n      <td>NaN</td>\n      <td>NaN</td>\n      <td>54.0</td>\n      <td>35.0</td>\n      <td>44.0</td>\n      <td>45.0</td>\n      <td>48.0</td>\n      <td>51.0</td>\n      <td>NaN</td>\n      <td>NaN</td>\n      <td>NaN</td>\n      <td>NaN</td>\n      <td>NaN</td>\n      <td>NaN</td>\n      <td>NaN</td>\n      <td>32</td>\n      <td>33</td>\n      <td>49</td>\n      <td>53</td>\n      <td>32</td>\n      <td>40</td>\n      <td>...</td>\n      <td>55</td>\n      <td>54</td>\n      <td>52</td>\n      <td>52</td>\n      <td>57</td>\n      <td>48</td>\n      <td>60</td>\n      <td>50</td>\n      <td>51</td>\n      <td>26</td>\n      <td>50</td>\n      <td>45</td>\n      <td>38</td>\n      <td>38</td>\n      <td>36</td>\n      <td>39</td>\n      <td>46</td>\n      <td>52</td>\n      <td>46</td>\n      <td>7</td>\n      <td>8</td>\n      <td>10</td>\n      <td>6</td>\n      <td>14</td>\n      <td>43+2</td>\n      <td>43+2</td>\n      <td>43+2</td>\n      <td>43+2</td>\n      <td>43+2</td>\n      <td>43+2</td>\n      <td>43+2</td>\n      <td>43+2</td>\n      <td>44+2</td>\n      <td>44+2</td>\n      <td>44+2</td>\n      <td>45+2</td>\n      <td>46+2</td>\n      <td>46+2</td>\n      <td>46+2</td>\n      <td>45+2</td>\n      <td>47+2</td>\n      <td>49+2</td>\n      <td>49+2</td>\n      <td>49+2</td>\n      <td>47+2</td>\n      <td>47+2</td>\n      <td>49+2</td>\n      <td>49+2</td>\n      <td>49+2</td>\n      <td>47+2</td>\n    </tr>\n    <tr>\n      <th>18276</th>\n      <td>251110</td>\n      <td>https://sofifa.com/player/251110/haijian-wang/...</td>\n      <td>Wang Haijian</td>\n      <td>汪海健</td>\n      <td>18</td>\n      <td>2000-08-02</td>\n      <td>185</td>\n      <td>74</td>\n      <td>China PR</td>\n      <td>Shanghai Greenland Shenhua FC</td>\n      <td>48</td>\n      <td>54</td>\n      <td>40000</td>\n      <td>1000</td>\n      <td>CM</td>\n      <td>Right</td>\n      <td>1</td>\n      <td>2</td>\n      <td>2</td>\n      <td>Low/Low</td>\n      <td>Lean</td>\n      <td>No</td>\n      <td>70000.0</td>\n      <td>NaN</td>\n      <td>SUB</td>\n      <td>33.0</td>\n      <td>NaN</td>\n      <td>2019-02-01</td>\n      <td>2022.0</td>\n      <td>NaN</td>\n      <td>NaN</td>\n      <td>59.0</td>\n      <td>35.0</td>\n      <td>47.0</td>\n      <td>47.0</td>\n      <td>45.0</td>\n      <td>52.0</td>\n      <td>NaN</td>\n      <td>NaN</td>\n      <td>NaN</td>\n      <td>NaN</td>\n      <td>NaN</td>\n      <td>NaN</td>\n      <td>NaN</td>\n      <td>39</td>\n      <td>34</td>\n      <td>47</td>\n      <td>54</td>\n      <td>28</td>\n      <td>42</td>\n      <td>...</td>\n      <td>55</td>\n      <td>63</td>\n      <td>55</td>\n      <td>54</td>\n      <td>59</td>\n      <td>46</td>\n      <td>61</td>\n      <td>42</td>\n      <td>55</td>\n      <td>28</td>\n      <td>57</td>\n      <td>49</td>\n      <td>31</td>\n      <td>48</td>\n      <td>36</td>\n      <td>40</td>\n      <td>39</td>\n      <td>44</td>\n      <td>54</td>\n      <td>14</td>\n      <td>9</td>\n      <td>13</td>\n      <td>13</td>\n      <td>13</td>\n      <td>43+2</td>\n      <td>43+2</td>\n      <td>43+2</td>\n      <td>45+2</td>\n      <td>44+2</td>\n      <td>44+2</td>\n      <td>44+2</td>\n      <td>45+2</td>\n      <td>46+2</td>\n      <td>46+2</td>\n      <td>46+2</td>\n      <td>46+2</td>\n      <td>46+2</td>\n      <td>46+2</td>\n      <td>46+2</td>\n      <td>46+2</td>\n      <td>48+2</td>\n      <td>48+2</td>\n      <td>48+2</td>\n      <td>48+2</td>\n      <td>48+2</td>\n      <td>48+2</td>\n      <td>49+2</td>\n      <td>49+2</td>\n      <td>49+2</td>\n      <td>48+2</td>\n    </tr>\n    <tr>\n      <th>18277</th>\n      <td>233449</td>\n      <td>https://sofifa.com/player/233449/ximing-pan/20...</td>\n      <td>Pan Ximing</td>\n      <td>潘喜明</td>\n      <td>26</td>\n      <td>1993-01-11</td>\n      <td>182</td>\n      <td>78</td>\n      <td>China PR</td>\n      <td>Hebei China Fortune FC</td>\n      <td>48</td>\n      <td>51</td>\n      <td>40000</td>\n      <td>2000</td>\n      <td>CM</td>\n      <td>Right</td>\n      <td>1</td>\n      <td>3</td>\n      <td>2</td>\n      <td>Medium/Medium</td>\n      <td>Normal</td>\n      <td>No</td>\n      <td>NaN</td>\n      <td>NaN</td>\n      <td>SUB</td>\n      <td>37.0</td>\n      <td>Tianjin TEDA FC</td>\n      <td>NaN</td>\n      <td>2019.0</td>\n      <td>NaN</td>\n      <td>NaN</td>\n      <td>60.0</td>\n      <td>32.0</td>\n      <td>51.0</td>\n      <td>45.0</td>\n      <td>47.0</td>\n      <td>55.0</td>\n      <td>NaN</td>\n      <td>NaN</td>\n      <td>NaN</td>\n      <td>NaN</td>\n      <td>NaN</td>\n      <td>NaN</td>\n      <td>NaN</td>\n      <td>44</td>\n      <td>30</td>\n      <td>48</td>\n      <td>58</td>\n      <td>25</td>\n      <td>40</td>\n      <td>...</td>\n      <td>54</td>\n      <td>64</td>\n      <td>52</td>\n      <td>49</td>\n      <td>71</td>\n      <td>41</td>\n      <td>64</td>\n      <td>40</td>\n      <td>61</td>\n      <td>30</td>\n      <td>54</td>\n      <td>47</td>\n      <td>29</td>\n      <td>52</td>\n      <td>38</td>\n      <td>42</td>\n      <td>52</td>\n      <td>42</td>\n      <td>48</td>\n      <td>8</td>\n      <td>12</td>\n      <td>14</td>\n      <td>9</td>\n      <td>10</td>\n      <td>42+2</td>\n      <td>42+2</td>\n      <td>42+2</td>\n      <td>44+2</td>\n      <td>43+2</td>\n      <td>43+2</td>\n      <td>43+2</td>\n      <td>44+2</td>\n      <td>46+2</td>\n      <td>46+2</td>\n      <td>46+2</td>\n      <td>46+2</td>\n      <td>46+2</td>\n      <td>46+2</td>\n      <td>46+2</td>\n      <td>46+2</td>\n      <td>48+2</td>\n      <td>49+2</td>\n      <td>49+2</td>\n      <td>49+2</td>\n      <td>48+2</td>\n      <td>48+2</td>\n      <td>50+2</td>\n      <td>50+2</td>\n      <td>50+2</td>\n      <td>48+2</td>\n    </tr>\n  </tbody>\n</table>\n<p>4 rows × 104 columns</p>\n</div>"
     },
     "metadata": {},
     "execution_count": 130
    }
   ],
   "source": [
    "df.tail(4)"
   ]
  },
  {
   "source": [
    "**Analizamos a continuación las columnas del dataset de Fifa 2020.**"
   ],
   "cell_type": "markdown",
   "metadata": {}
  },
  {
   "cell_type": "code",
   "execution_count": 131,
   "metadata": {},
   "outputs": [
    {
     "output_type": "execute_result",
     "data": {
      "text/plain": [
       "['sofifa_id',\n",
       " 'player_url',\n",
       " 'short_name',\n",
       " 'long_name',\n",
       " 'age',\n",
       " 'dob',\n",
       " 'height_cm',\n",
       " 'weight_kg',\n",
       " 'nationality',\n",
       " 'club',\n",
       " 'overall',\n",
       " 'potential',\n",
       " 'value_eur',\n",
       " 'wage_eur',\n",
       " 'player_positions',\n",
       " 'preferred_foot',\n",
       " 'international_reputation',\n",
       " 'weak_foot',\n",
       " 'skill_moves',\n",
       " 'work_rate',\n",
       " 'body_type',\n",
       " 'real_face',\n",
       " 'release_clause_eur',\n",
       " 'player_tags',\n",
       " 'team_position',\n",
       " 'team_jersey_number',\n",
       " 'loaned_from',\n",
       " 'joined',\n",
       " 'contract_valid_until',\n",
       " 'nation_position',\n",
       " 'nation_jersey_number',\n",
       " 'pace',\n",
       " 'shooting',\n",
       " 'passing',\n",
       " 'dribbling',\n",
       " 'defending',\n",
       " 'physic',\n",
       " 'gk_diving',\n",
       " 'gk_handling',\n",
       " 'gk_kicking',\n",
       " 'gk_reflexes',\n",
       " 'gk_speed',\n",
       " 'gk_positioning',\n",
       " 'player_traits',\n",
       " 'attacking_crossing',\n",
       " 'attacking_finishing',\n",
       " 'attacking_heading_accuracy',\n",
       " 'attacking_short_passing',\n",
       " 'attacking_volleys',\n",
       " 'skill_dribbling',\n",
       " 'skill_curve',\n",
       " 'skill_fk_accuracy',\n",
       " 'skill_long_passing',\n",
       " 'skill_ball_control',\n",
       " 'movement_acceleration',\n",
       " 'movement_sprint_speed',\n",
       " 'movement_agility',\n",
       " 'movement_reactions',\n",
       " 'movement_balance',\n",
       " 'power_shot_power',\n",
       " 'power_jumping',\n",
       " 'power_stamina',\n",
       " 'power_strength',\n",
       " 'power_long_shots',\n",
       " 'mentality_aggression',\n",
       " 'mentality_interceptions',\n",
       " 'mentality_positioning',\n",
       " 'mentality_vision',\n",
       " 'mentality_penalties',\n",
       " 'mentality_composure',\n",
       " 'defending_marking',\n",
       " 'defending_standing_tackle',\n",
       " 'defending_sliding_tackle',\n",
       " 'goalkeeping_diving',\n",
       " 'goalkeeping_handling',\n",
       " 'goalkeeping_kicking',\n",
       " 'goalkeeping_positioning',\n",
       " 'goalkeeping_reflexes',\n",
       " 'ls',\n",
       " 'st',\n",
       " 'rs',\n",
       " 'lw',\n",
       " 'lf',\n",
       " 'cf',\n",
       " 'rf',\n",
       " 'rw',\n",
       " 'lam',\n",
       " 'cam',\n",
       " 'ram',\n",
       " 'lm',\n",
       " 'lcm',\n",
       " 'cm',\n",
       " 'rcm',\n",
       " 'rm',\n",
       " 'lwb',\n",
       " 'ldm',\n",
       " 'cdm',\n",
       " 'rdm',\n",
       " 'rwb',\n",
       " 'lb',\n",
       " 'lcb',\n",
       " 'cb',\n",
       " 'rcb',\n",
       " 'rb']"
      ]
     },
     "metadata": {},
     "execution_count": 131
    }
   ],
   "source": [
    "cols = df.columns.tolist()\n",
    "cols"
   ]
  },
  {
   "cell_type": "code",
   "execution_count": 132,
   "metadata": {},
   "outputs": [
    {
     "output_type": "stream",
     "name": "stdout",
     "text": [
      "Cantidad de columnas: 104\n"
     ]
    }
   ],
   "source": [
    "print(\"Cantidad de columnas: \" + str(len(df.columns)))"
   ]
  },
  {
   "source": [
    "- Se puede observar que la edición 2020 trae 15 columnas más que la edición anterior. \n",
    "- En esta edición los nombres de columna están en minúscula.\n",
    "- Muchas de las columnas en esta edición se encuentran agrupadas por tipo de acción a través de algún prefijo (\"attacking\", \"defending\")\n",
    "- La columna que determina la posición es ahora \"team_position\".\n",
    "- La columna utilizada para identificar por nombre al jugador será \"short_name\".\n",
    "- La variable utilizada para evauluar el desempeño de los jugadores sigue siendo \"overall\"."
   ],
   "cell_type": "markdown",
   "metadata": {}
  },
  {
   "source": [
    "**Realizamos el histograma de la variable \"Overall\" (Desempeño global)**"
   ],
   "cell_type": "markdown",
   "metadata": {}
  },
  {
   "cell_type": "code",
   "execution_count": 133,
   "metadata": {},
   "outputs": [
    {
     "output_type": "execute_result",
     "data": {
      "text/plain": [
       "<matplotlib.axes._subplots.AxesSubplot at 0x2293e859088>"
      ]
     },
     "metadata": {},
     "execution_count": 133
    },
    {
     "output_type": "display_data",
     "data": {
      "text/plain": "<Figure size 432x288 with 1 Axes>",
      "image/svg+xml": "<?xml version=\"1.0\" encoding=\"utf-8\" standalone=\"no\"?>\r\n<!DOCTYPE svg PUBLIC \"-//W3C//DTD SVG 1.1//EN\"\r\n  \"http://www.w3.org/Graphics/SVG/1.1/DTD/svg11.dtd\">\r\n<!-- Created with matplotlib (https://matplotlib.org/) -->\r\n<svg height=\"248.518125pt\" version=\"1.1\" viewBox=\"0 0 381.65 248.518125\" width=\"381.65pt\" xmlns=\"http://www.w3.org/2000/svg\" xmlns:xlink=\"http://www.w3.org/1999/xlink\">\r\n <defs>\r\n  <style type=\"text/css\">\r\n*{stroke-linecap:butt;stroke-linejoin:round;}\r\n  </style>\r\n </defs>\r\n <g id=\"figure_1\">\r\n  <g id=\"patch_1\">\r\n   <path d=\"M -0 248.518125 \r\nL 381.65 248.518125 \r\nL 381.65 0 \r\nL -0 0 \r\nz\r\n\" style=\"fill:none;\"/>\r\n  </g>\r\n  <g id=\"axes_1\">\r\n   <g id=\"patch_2\">\r\n    <path d=\"M 39.65 224.64 \r\nL 374.45 224.64 \r\nL 374.45 7.2 \r\nL 39.65 7.2 \r\nz\r\n\" style=\"fill:#ffffff;\"/>\r\n   </g>\r\n   <g id=\"patch_3\">\r\n    <path clip-path=\"url(#p41b80dbafd)\" d=\"M 54.868182 224.64 \r\nL 70.086364 224.64 \r\nL 70.086364 209.793138 \r\nL 54.868182 209.793138 \r\nz\r\n\" style=\"fill:#1f77b4;\"/>\r\n   </g>\r\n   <g id=\"patch_4\">\r\n    <path clip-path=\"url(#p41b80dbafd)\" d=\"M 70.086364 224.64 \r\nL 85.304545 224.64 \r\nL 85.304545 204.610743 \r\nL 70.086364 204.610743 \r\nz\r\n\" style=\"fill:#1f77b4;\"/>\r\n   </g>\r\n   <g id=\"patch_5\">\r\n    <path clip-path=\"url(#p41b80dbafd)\" d=\"M 85.304545 224.64 \r\nL 100.522727 224.64 \r\nL 100.522727 194.596114 \r\nL 85.304545 194.596114 \r\nz\r\n\" style=\"fill:#1f77b4;\"/>\r\n   </g>\r\n   <g id=\"patch_6\">\r\n    <path clip-path=\"url(#p41b80dbafd)\" d=\"M 100.522727 224.64 \r\nL 115.740909 224.64 \r\nL 115.740909 155.027825 \r\nL 100.522727 155.027825 \r\nz\r\n\" style=\"fill:#1f77b4;\"/>\r\n   </g>\r\n   <g id=\"patch_7\">\r\n    <path clip-path=\"url(#p41b80dbafd)\" d=\"M 115.740909 224.64 \r\nL 130.959091 224.64 \r\nL 130.959091 152.50666 \r\nL 115.740909 152.50666 \r\nz\r\n\" style=\"fill:#1f77b4;\"/>\r\n   </g>\r\n   <g id=\"patch_8\">\r\n    <path clip-path=\"url(#p41b80dbafd)\" d=\"M 130.959091 224.64 \r\nL 146.177273 224.64 \r\nL 146.177273 130.096302 \r\nL 130.959091 130.096302 \r\nz\r\n\" style=\"fill:#1f77b4;\"/>\r\n   </g>\r\n   <g id=\"patch_9\">\r\n    <path clip-path=\"url(#p41b80dbafd)\" d=\"M 146.177273 224.64 \r\nL 161.395455 224.64 \r\nL 161.395455 17.554286 \r\nL 146.177273 17.554286 \r\nz\r\n\" style=\"fill:#1f77b4;\"/>\r\n   </g>\r\n   <g id=\"patch_10\">\r\n    <path clip-path=\"url(#p41b80dbafd)\" d=\"M 161.395455 224.64 \r\nL 176.613636 224.64 \r\nL 176.613636 66.016685 \r\nL 161.395455 66.016685 \r\nz\r\n\" style=\"fill:#1f77b4;\"/>\r\n   </g>\r\n   <g id=\"patch_11\">\r\n    <path clip-path=\"url(#p41b80dbafd)\" d=\"M 176.613636 224.64 \r\nL 191.831818 224.64 \r\nL 191.831818 75.260958 \r\nL 176.613636 75.260958 \r\nz\r\n\" style=\"fill:#1f77b4;\"/>\r\n   </g>\r\n   <g id=\"patch_12\">\r\n    <path clip-path=\"url(#p41b80dbafd)\" d=\"M 191.831818 224.64 \r\nL 207.05 224.64 \r\nL 207.05 93.9596 \r\nL 191.831818 93.9596 \r\nz\r\n\" style=\"fill:#1f77b4;\"/>\r\n   </g>\r\n   <g id=\"patch_13\">\r\n    <path clip-path=\"url(#p41b80dbafd)\" d=\"M 207.05 224.64 \r\nL 222.268182 224.64 \r\nL 222.268182 77.151831 \r\nL 207.05 77.151831 \r\nz\r\n\" style=\"fill:#1f77b4;\"/>\r\n   </g>\r\n   <g id=\"patch_14\">\r\n    <path clip-path=\"url(#p41b80dbafd)\" d=\"M 222.268182 224.64 \r\nL 237.486364 224.64 \r\nL 237.486364 152.156498 \r\nL 222.268182 152.156498 \r\nz\r\n\" style=\"fill:#1f77b4;\"/>\r\n   </g>\r\n   <g id=\"patch_15\">\r\n    <path clip-path=\"url(#p41b80dbafd)\" d=\"M 237.486364 224.64 \r\nL 252.704545 224.64 \r\nL 252.704545 181.009834 \r\nL 237.486364 181.009834 \r\nz\r\n\" style=\"fill:#1f77b4;\"/>\r\n   </g>\r\n   <g id=\"patch_16\">\r\n    <path clip-path=\"url(#p41b80dbafd)\" d=\"M 252.704545 224.64 \r\nL 267.922727 224.64 \r\nL 267.922727 183.951194 \r\nL 252.704545 183.951194 \r\nz\r\n\" style=\"fill:#1f77b4;\"/>\r\n   </g>\r\n   <g id=\"patch_17\">\r\n    <path clip-path=\"url(#p41b80dbafd)\" d=\"M 267.922727 224.64 \r\nL 283.140909 224.64 \r\nL 283.140909 212.454368 \r\nL 267.922727 212.454368 \r\nz\r\n\" style=\"fill:#1f77b4;\"/>\r\n   </g>\r\n   <g id=\"patch_18\">\r\n    <path clip-path=\"url(#p41b80dbafd)\" d=\"M 283.140909 224.64 \r\nL 298.359091 224.64 \r\nL 298.359091 215.605824 \r\nL 283.140909 215.605824 \r\nz\r\n\" style=\"fill:#1f77b4;\"/>\r\n   </g>\r\n   <g id=\"patch_19\">\r\n    <path clip-path=\"url(#p41b80dbafd)\" d=\"M 298.359091 224.64 \r\nL 313.577273 224.64 \r\nL 313.577273 219.877799 \r\nL 298.359091 219.877799 \r\nz\r\n\" style=\"fill:#1f77b4;\"/>\r\n   </g>\r\n   <g id=\"patch_20\">\r\n    <path clip-path=\"url(#p41b80dbafd)\" d=\"M 313.577273 224.64 \r\nL 328.795455 224.64 \r\nL 328.795455 222.539029 \r\nL 313.577273 222.539029 \r\nz\r\n\" style=\"fill:#1f77b4;\"/>\r\n   </g>\r\n   <g id=\"patch_21\">\r\n    <path clip-path=\"url(#p41b80dbafd)\" d=\"M 328.795455 224.64 \r\nL 344.013636 224.64 \r\nL 344.013636 224.149773 \r\nL 328.795455 224.149773 \r\nz\r\n\" style=\"fill:#1f77b4;\"/>\r\n   </g>\r\n   <g id=\"patch_22\">\r\n    <path clip-path=\"url(#p41b80dbafd)\" d=\"M 344.013636 224.64 \r\nL 359.231818 224.64 \r\nL 359.231818 224.429903 \r\nL 344.013636 224.429903 \r\nz\r\n\" style=\"fill:#1f77b4;\"/>\r\n   </g>\r\n   <g id=\"matplotlib.axis_1\">\r\n    <g id=\"xtick_1\">\r\n     <g id=\"line2d_1\">\r\n      <path clip-path=\"url(#p41b80dbafd)\" d=\"M 68.101383 224.64 \r\nL 68.101383 7.2 \r\n\" style=\"fill:none;stroke:#b0b0b0;stroke-linecap:square;stroke-width:0.8;\"/>\r\n     </g>\r\n     <g id=\"line2d_2\">\r\n      <defs>\r\n       <path d=\"M 0 0 \r\nL 0 3.5 \r\n\" id=\"me48b296cb0\" style=\"stroke:#000000;stroke-width:0.8;\"/>\r\n      </defs>\r\n      <g>\r\n       <use style=\"stroke:#000000;stroke-width:0.8;\" x=\"68.101383\" xlink:href=\"#me48b296cb0\" y=\"224.64\"/>\r\n      </g>\r\n     </g>\r\n     <g id=\"text_1\">\r\n      <!-- 50 -->\r\n      <defs>\r\n       <path d=\"M 10.796875 72.90625 \r\nL 49.515625 72.90625 \r\nL 49.515625 64.59375 \r\nL 19.828125 64.59375 \r\nL 19.828125 46.734375 \r\nQ 21.96875 47.46875 24.109375 47.828125 \r\nQ 26.265625 48.1875 28.421875 48.1875 \r\nQ 40.625 48.1875 47.75 41.5 \r\nQ 54.890625 34.8125 54.890625 23.390625 \r\nQ 54.890625 11.625 47.5625 5.09375 \r\nQ 40.234375 -1.421875 26.90625 -1.421875 \r\nQ 22.3125 -1.421875 17.546875 -0.640625 \r\nQ 12.796875 0.140625 7.71875 1.703125 \r\nL 7.71875 11.625 \r\nQ 12.109375 9.234375 16.796875 8.0625 \r\nQ 21.484375 6.890625 26.703125 6.890625 \r\nQ 35.15625 6.890625 40.078125 11.328125 \r\nQ 45.015625 15.765625 45.015625 23.390625 \r\nQ 45.015625 31 40.078125 35.4375 \r\nQ 35.15625 39.890625 26.703125 39.890625 \r\nQ 22.75 39.890625 18.8125 39.015625 \r\nQ 14.890625 38.140625 10.796875 36.28125 \r\nz\r\n\" id=\"DejaVuSans-53\"/>\r\n       <path d=\"M 31.78125 66.40625 \r\nQ 24.171875 66.40625 20.328125 58.90625 \r\nQ 16.5 51.421875 16.5 36.375 \r\nQ 16.5 21.390625 20.328125 13.890625 \r\nQ 24.171875 6.390625 31.78125 6.390625 \r\nQ 39.453125 6.390625 43.28125 13.890625 \r\nQ 47.125 21.390625 47.125 36.375 \r\nQ 47.125 51.421875 43.28125 58.90625 \r\nQ 39.453125 66.40625 31.78125 66.40625 \r\nz\r\nM 31.78125 74.21875 \r\nQ 44.046875 74.21875 50.515625 64.515625 \r\nQ 56.984375 54.828125 56.984375 36.375 \r\nQ 56.984375 17.96875 50.515625 8.265625 \r\nQ 44.046875 -1.421875 31.78125 -1.421875 \r\nQ 19.53125 -1.421875 13.0625 8.265625 \r\nQ 6.59375 17.96875 6.59375 36.375 \r\nQ 6.59375 54.828125 13.0625 64.515625 \r\nQ 19.53125 74.21875 31.78125 74.21875 \r\nz\r\n\" id=\"DejaVuSans-48\"/>\r\n      </defs>\r\n      <g transform=\"translate(61.738883 239.238437)scale(0.1 -0.1)\">\r\n       <use xlink:href=\"#DejaVuSans-53\"/>\r\n       <use x=\"63.623047\" xlink:href=\"#DejaVuSans-48\"/>\r\n      </g>\r\n     </g>\r\n    </g>\r\n    <g id=\"xtick_2\">\r\n     <g id=\"line2d_3\">\r\n      <path clip-path=\"url(#p41b80dbafd)\" d=\"M 134.267391 224.64 \r\nL 134.267391 7.2 \r\n\" style=\"fill:none;stroke:#b0b0b0;stroke-linecap:square;stroke-width:0.8;\"/>\r\n     </g>\r\n     <g id=\"line2d_4\">\r\n      <g>\r\n       <use style=\"stroke:#000000;stroke-width:0.8;\" x=\"134.267391\" xlink:href=\"#me48b296cb0\" y=\"224.64\"/>\r\n      </g>\r\n     </g>\r\n     <g id=\"text_2\">\r\n      <!-- 60 -->\r\n      <defs>\r\n       <path d=\"M 33.015625 40.375 \r\nQ 26.375 40.375 22.484375 35.828125 \r\nQ 18.609375 31.296875 18.609375 23.390625 \r\nQ 18.609375 15.53125 22.484375 10.953125 \r\nQ 26.375 6.390625 33.015625 6.390625 \r\nQ 39.65625 6.390625 43.53125 10.953125 \r\nQ 47.40625 15.53125 47.40625 23.390625 \r\nQ 47.40625 31.296875 43.53125 35.828125 \r\nQ 39.65625 40.375 33.015625 40.375 \r\nz\r\nM 52.59375 71.296875 \r\nL 52.59375 62.3125 \r\nQ 48.875 64.0625 45.09375 64.984375 \r\nQ 41.3125 65.921875 37.59375 65.921875 \r\nQ 27.828125 65.921875 22.671875 59.328125 \r\nQ 17.53125 52.734375 16.796875 39.40625 \r\nQ 19.671875 43.65625 24.015625 45.921875 \r\nQ 28.375 48.1875 33.59375 48.1875 \r\nQ 44.578125 48.1875 50.953125 41.515625 \r\nQ 57.328125 34.859375 57.328125 23.390625 \r\nQ 57.328125 12.15625 50.6875 5.359375 \r\nQ 44.046875 -1.421875 33.015625 -1.421875 \r\nQ 20.359375 -1.421875 13.671875 8.265625 \r\nQ 6.984375 17.96875 6.984375 36.375 \r\nQ 6.984375 53.65625 15.1875 63.9375 \r\nQ 23.390625 74.21875 37.203125 74.21875 \r\nQ 40.921875 74.21875 44.703125 73.484375 \r\nQ 48.484375 72.75 52.59375 71.296875 \r\nz\r\n\" id=\"DejaVuSans-54\"/>\r\n      </defs>\r\n      <g transform=\"translate(127.904891 239.238437)scale(0.1 -0.1)\">\r\n       <use xlink:href=\"#DejaVuSans-54\"/>\r\n       <use x=\"63.623047\" xlink:href=\"#DejaVuSans-48\"/>\r\n      </g>\r\n     </g>\r\n    </g>\r\n    <g id=\"xtick_3\">\r\n     <g id=\"line2d_5\">\r\n      <path clip-path=\"url(#p41b80dbafd)\" d=\"M 200.433399 224.64 \r\nL 200.433399 7.2 \r\n\" style=\"fill:none;stroke:#b0b0b0;stroke-linecap:square;stroke-width:0.8;\"/>\r\n     </g>\r\n     <g id=\"line2d_6\">\r\n      <g>\r\n       <use style=\"stroke:#000000;stroke-width:0.8;\" x=\"200.433399\" xlink:href=\"#me48b296cb0\" y=\"224.64\"/>\r\n      </g>\r\n     </g>\r\n     <g id=\"text_3\">\r\n      <!-- 70 -->\r\n      <defs>\r\n       <path d=\"M 8.203125 72.90625 \r\nL 55.078125 72.90625 \r\nL 55.078125 68.703125 \r\nL 28.609375 0 \r\nL 18.3125 0 \r\nL 43.21875 64.59375 \r\nL 8.203125 64.59375 \r\nz\r\n\" id=\"DejaVuSans-55\"/>\r\n      </defs>\r\n      <g transform=\"translate(194.070899 239.238437)scale(0.1 -0.1)\">\r\n       <use xlink:href=\"#DejaVuSans-55\"/>\r\n       <use x=\"63.623047\" xlink:href=\"#DejaVuSans-48\"/>\r\n      </g>\r\n     </g>\r\n    </g>\r\n    <g id=\"xtick_4\">\r\n     <g id=\"line2d_7\">\r\n      <path clip-path=\"url(#p41b80dbafd)\" d=\"M 266.599407 224.64 \r\nL 266.599407 7.2 \r\n\" style=\"fill:none;stroke:#b0b0b0;stroke-linecap:square;stroke-width:0.8;\"/>\r\n     </g>\r\n     <g id=\"line2d_8\">\r\n      <g>\r\n       <use style=\"stroke:#000000;stroke-width:0.8;\" x=\"266.599407\" xlink:href=\"#me48b296cb0\" y=\"224.64\"/>\r\n      </g>\r\n     </g>\r\n     <g id=\"text_4\">\r\n      <!-- 80 -->\r\n      <defs>\r\n       <path d=\"M 31.78125 34.625 \r\nQ 24.75 34.625 20.71875 30.859375 \r\nQ 16.703125 27.09375 16.703125 20.515625 \r\nQ 16.703125 13.921875 20.71875 10.15625 \r\nQ 24.75 6.390625 31.78125 6.390625 \r\nQ 38.8125 6.390625 42.859375 10.171875 \r\nQ 46.921875 13.96875 46.921875 20.515625 \r\nQ 46.921875 27.09375 42.890625 30.859375 \r\nQ 38.875 34.625 31.78125 34.625 \r\nz\r\nM 21.921875 38.8125 \r\nQ 15.578125 40.375 12.03125 44.71875 \r\nQ 8.5 49.078125 8.5 55.328125 \r\nQ 8.5 64.0625 14.71875 69.140625 \r\nQ 20.953125 74.21875 31.78125 74.21875 \r\nQ 42.671875 74.21875 48.875 69.140625 \r\nQ 55.078125 64.0625 55.078125 55.328125 \r\nQ 55.078125 49.078125 51.53125 44.71875 \r\nQ 48 40.375 41.703125 38.8125 \r\nQ 48.828125 37.15625 52.796875 32.3125 \r\nQ 56.78125 27.484375 56.78125 20.515625 \r\nQ 56.78125 9.90625 50.3125 4.234375 \r\nQ 43.84375 -1.421875 31.78125 -1.421875 \r\nQ 19.734375 -1.421875 13.25 4.234375 \r\nQ 6.78125 9.90625 6.78125 20.515625 \r\nQ 6.78125 27.484375 10.78125 32.3125 \r\nQ 14.796875 37.15625 21.921875 38.8125 \r\nz\r\nM 18.3125 54.390625 \r\nQ 18.3125 48.734375 21.84375 45.5625 \r\nQ 25.390625 42.390625 31.78125 42.390625 \r\nQ 38.140625 42.390625 41.71875 45.5625 \r\nQ 45.3125 48.734375 45.3125 54.390625 \r\nQ 45.3125 60.0625 41.71875 63.234375 \r\nQ 38.140625 66.40625 31.78125 66.40625 \r\nQ 25.390625 66.40625 21.84375 63.234375 \r\nQ 18.3125 60.0625 18.3125 54.390625 \r\nz\r\n\" id=\"DejaVuSans-56\"/>\r\n      </defs>\r\n      <g transform=\"translate(260.236907 239.238437)scale(0.1 -0.1)\">\r\n       <use xlink:href=\"#DejaVuSans-56\"/>\r\n       <use x=\"63.623047\" xlink:href=\"#DejaVuSans-48\"/>\r\n      </g>\r\n     </g>\r\n    </g>\r\n    <g id=\"xtick_5\">\r\n     <g id=\"line2d_9\">\r\n      <path clip-path=\"url(#p41b80dbafd)\" d=\"M 332.765415 224.64 \r\nL 332.765415 7.2 \r\n\" style=\"fill:none;stroke:#b0b0b0;stroke-linecap:square;stroke-width:0.8;\"/>\r\n     </g>\r\n     <g id=\"line2d_10\">\r\n      <g>\r\n       <use style=\"stroke:#000000;stroke-width:0.8;\" x=\"332.765415\" xlink:href=\"#me48b296cb0\" y=\"224.64\"/>\r\n      </g>\r\n     </g>\r\n     <g id=\"text_5\">\r\n      <!-- 90 -->\r\n      <defs>\r\n       <path d=\"M 10.984375 1.515625 \r\nL 10.984375 10.5 \r\nQ 14.703125 8.734375 18.5 7.8125 \r\nQ 22.3125 6.890625 25.984375 6.890625 \r\nQ 35.75 6.890625 40.890625 13.453125 \r\nQ 46.046875 20.015625 46.78125 33.40625 \r\nQ 43.953125 29.203125 39.59375 26.953125 \r\nQ 35.25 24.703125 29.984375 24.703125 \r\nQ 19.046875 24.703125 12.671875 31.3125 \r\nQ 6.296875 37.9375 6.296875 49.421875 \r\nQ 6.296875 60.640625 12.9375 67.421875 \r\nQ 19.578125 74.21875 30.609375 74.21875 \r\nQ 43.265625 74.21875 49.921875 64.515625 \r\nQ 56.59375 54.828125 56.59375 36.375 \r\nQ 56.59375 19.140625 48.40625 8.859375 \r\nQ 40.234375 -1.421875 26.421875 -1.421875 \r\nQ 22.703125 -1.421875 18.890625 -0.6875 \r\nQ 15.09375 0.046875 10.984375 1.515625 \r\nz\r\nM 30.609375 32.421875 \r\nQ 37.25 32.421875 41.125 36.953125 \r\nQ 45.015625 41.5 45.015625 49.421875 \r\nQ 45.015625 57.28125 41.125 61.84375 \r\nQ 37.25 66.40625 30.609375 66.40625 \r\nQ 23.96875 66.40625 20.09375 61.84375 \r\nQ 16.21875 57.28125 16.21875 49.421875 \r\nQ 16.21875 41.5 20.09375 36.953125 \r\nQ 23.96875 32.421875 30.609375 32.421875 \r\nz\r\n\" id=\"DejaVuSans-57\"/>\r\n      </defs>\r\n      <g transform=\"translate(326.402915 239.238437)scale(0.1 -0.1)\">\r\n       <use xlink:href=\"#DejaVuSans-57\"/>\r\n       <use x=\"63.623047\" xlink:href=\"#DejaVuSans-48\"/>\r\n      </g>\r\n     </g>\r\n    </g>\r\n   </g>\r\n   <g id=\"matplotlib.axis_2\">\r\n    <g id=\"ytick_1\">\r\n     <g id=\"line2d_11\">\r\n      <path clip-path=\"url(#p41b80dbafd)\" d=\"M 39.65 224.64 \r\nL 374.45 224.64 \r\n\" style=\"fill:none;stroke:#b0b0b0;stroke-linecap:square;stroke-width:0.8;\"/>\r\n     </g>\r\n     <g id=\"line2d_12\">\r\n      <defs>\r\n       <path d=\"M 0 0 \r\nL -3.5 0 \r\n\" id=\"m785a59cae7\" style=\"stroke:#000000;stroke-width:0.8;\"/>\r\n      </defs>\r\n      <g>\r\n       <use style=\"stroke:#000000;stroke-width:0.8;\" x=\"39.65\" xlink:href=\"#m785a59cae7\" y=\"224.64\"/>\r\n      </g>\r\n     </g>\r\n     <g id=\"text_6\">\r\n      <!-- 0 -->\r\n      <g transform=\"translate(26.2875 228.439219)scale(0.1 -0.1)\">\r\n       <use xlink:href=\"#DejaVuSans-48\"/>\r\n      </g>\r\n     </g>\r\n    </g>\r\n    <g id=\"ytick_2\">\r\n     <g id=\"line2d_13\">\r\n      <path clip-path=\"url(#p41b80dbafd)\" d=\"M 39.65 189.623816 \r\nL 374.45 189.623816 \r\n\" style=\"fill:none;stroke:#b0b0b0;stroke-linecap:square;stroke-width:0.8;\"/>\r\n     </g>\r\n     <g id=\"line2d_14\">\r\n      <g>\r\n       <use style=\"stroke:#000000;stroke-width:0.8;\" x=\"39.65\" xlink:href=\"#m785a59cae7\" y=\"189.623816\"/>\r\n      </g>\r\n     </g>\r\n     <g id=\"text_7\">\r\n      <!-- 500 -->\r\n      <g transform=\"translate(13.5625 193.423034)scale(0.1 -0.1)\">\r\n       <use xlink:href=\"#DejaVuSans-53\"/>\r\n       <use x=\"63.623047\" xlink:href=\"#DejaVuSans-48\"/>\r\n       <use x=\"127.246094\" xlink:href=\"#DejaVuSans-48\"/>\r\n      </g>\r\n     </g>\r\n    </g>\r\n    <g id=\"ytick_3\">\r\n     <g id=\"line2d_15\">\r\n      <path clip-path=\"url(#p41b80dbafd)\" d=\"M 39.65 154.607631 \r\nL 374.45 154.607631 \r\n\" style=\"fill:none;stroke:#b0b0b0;stroke-linecap:square;stroke-width:0.8;\"/>\r\n     </g>\r\n     <g id=\"line2d_16\">\r\n      <g>\r\n       <use style=\"stroke:#000000;stroke-width:0.8;\" x=\"39.65\" xlink:href=\"#m785a59cae7\" y=\"154.607631\"/>\r\n      </g>\r\n     </g>\r\n     <g id=\"text_8\">\r\n      <!-- 1000 -->\r\n      <defs>\r\n       <path d=\"M 12.40625 8.296875 \r\nL 28.515625 8.296875 \r\nL 28.515625 63.921875 \r\nL 10.984375 60.40625 \r\nL 10.984375 69.390625 \r\nL 28.421875 72.90625 \r\nL 38.28125 72.90625 \r\nL 38.28125 8.296875 \r\nL 54.390625 8.296875 \r\nL 54.390625 0 \r\nL 12.40625 0 \r\nz\r\n\" id=\"DejaVuSans-49\"/>\r\n      </defs>\r\n      <g transform=\"translate(7.2 158.40685)scale(0.1 -0.1)\">\r\n       <use xlink:href=\"#DejaVuSans-49\"/>\r\n       <use x=\"63.623047\" xlink:href=\"#DejaVuSans-48\"/>\r\n       <use x=\"127.246094\" xlink:href=\"#DejaVuSans-48\"/>\r\n       <use x=\"190.869141\" xlink:href=\"#DejaVuSans-48\"/>\r\n      </g>\r\n     </g>\r\n    </g>\r\n    <g id=\"ytick_4\">\r\n     <g id=\"line2d_17\">\r\n      <path clip-path=\"url(#p41b80dbafd)\" d=\"M 39.65 119.591447 \r\nL 374.45 119.591447 \r\n\" style=\"fill:none;stroke:#b0b0b0;stroke-linecap:square;stroke-width:0.8;\"/>\r\n     </g>\r\n     <g id=\"line2d_18\">\r\n      <g>\r\n       <use style=\"stroke:#000000;stroke-width:0.8;\" x=\"39.65\" xlink:href=\"#m785a59cae7\" y=\"119.591447\"/>\r\n      </g>\r\n     </g>\r\n     <g id=\"text_9\">\r\n      <!-- 1500 -->\r\n      <g transform=\"translate(7.2 123.390666)scale(0.1 -0.1)\">\r\n       <use xlink:href=\"#DejaVuSans-49\"/>\r\n       <use x=\"63.623047\" xlink:href=\"#DejaVuSans-53\"/>\r\n       <use x=\"127.246094\" xlink:href=\"#DejaVuSans-48\"/>\r\n       <use x=\"190.869141\" xlink:href=\"#DejaVuSans-48\"/>\r\n      </g>\r\n     </g>\r\n    </g>\r\n    <g id=\"ytick_5\">\r\n     <g id=\"line2d_19\">\r\n      <path clip-path=\"url(#p41b80dbafd)\" d=\"M 39.65 84.575263 \r\nL 374.45 84.575263 \r\n\" style=\"fill:none;stroke:#b0b0b0;stroke-linecap:square;stroke-width:0.8;\"/>\r\n     </g>\r\n     <g id=\"line2d_20\">\r\n      <g>\r\n       <use style=\"stroke:#000000;stroke-width:0.8;\" x=\"39.65\" xlink:href=\"#m785a59cae7\" y=\"84.575263\"/>\r\n      </g>\r\n     </g>\r\n     <g id=\"text_10\">\r\n      <!-- 2000 -->\r\n      <defs>\r\n       <path d=\"M 19.1875 8.296875 \r\nL 53.609375 8.296875 \r\nL 53.609375 0 \r\nL 7.328125 0 \r\nL 7.328125 8.296875 \r\nQ 12.9375 14.109375 22.625 23.890625 \r\nQ 32.328125 33.6875 34.8125 36.53125 \r\nQ 39.546875 41.84375 41.421875 45.53125 \r\nQ 43.3125 49.21875 43.3125 52.78125 \r\nQ 43.3125 58.59375 39.234375 62.25 \r\nQ 35.15625 65.921875 28.609375 65.921875 \r\nQ 23.96875 65.921875 18.8125 64.3125 \r\nQ 13.671875 62.703125 7.8125 59.421875 \r\nL 7.8125 69.390625 \r\nQ 13.765625 71.78125 18.9375 73 \r\nQ 24.125 74.21875 28.421875 74.21875 \r\nQ 39.75 74.21875 46.484375 68.546875 \r\nQ 53.21875 62.890625 53.21875 53.421875 \r\nQ 53.21875 48.921875 51.53125 44.890625 \r\nQ 49.859375 40.875 45.40625 35.40625 \r\nQ 44.1875 33.984375 37.640625 27.21875 \r\nQ 31.109375 20.453125 19.1875 8.296875 \r\nz\r\n\" id=\"DejaVuSans-50\"/>\r\n      </defs>\r\n      <g transform=\"translate(7.2 88.374481)scale(0.1 -0.1)\">\r\n       <use xlink:href=\"#DejaVuSans-50\"/>\r\n       <use x=\"63.623047\" xlink:href=\"#DejaVuSans-48\"/>\r\n       <use x=\"127.246094\" xlink:href=\"#DejaVuSans-48\"/>\r\n       <use x=\"190.869141\" xlink:href=\"#DejaVuSans-48\"/>\r\n      </g>\r\n     </g>\r\n    </g>\r\n    <g id=\"ytick_6\">\r\n     <g id=\"line2d_21\">\r\n      <path clip-path=\"url(#p41b80dbafd)\" d=\"M 39.65 49.559078 \r\nL 374.45 49.559078 \r\n\" style=\"fill:none;stroke:#b0b0b0;stroke-linecap:square;stroke-width:0.8;\"/>\r\n     </g>\r\n     <g id=\"line2d_22\">\r\n      <g>\r\n       <use style=\"stroke:#000000;stroke-width:0.8;\" x=\"39.65\" xlink:href=\"#m785a59cae7\" y=\"49.559078\"/>\r\n      </g>\r\n     </g>\r\n     <g id=\"text_11\">\r\n      <!-- 2500 -->\r\n      <g transform=\"translate(7.2 53.358297)scale(0.1 -0.1)\">\r\n       <use xlink:href=\"#DejaVuSans-50\"/>\r\n       <use x=\"63.623047\" xlink:href=\"#DejaVuSans-53\"/>\r\n       <use x=\"127.246094\" xlink:href=\"#DejaVuSans-48\"/>\r\n       <use x=\"190.869141\" xlink:href=\"#DejaVuSans-48\"/>\r\n      </g>\r\n     </g>\r\n    </g>\r\n    <g id=\"ytick_7\">\r\n     <g id=\"line2d_23\">\r\n      <path clip-path=\"url(#p41b80dbafd)\" d=\"M 39.65 14.542894 \r\nL 374.45 14.542894 \r\n\" style=\"fill:none;stroke:#b0b0b0;stroke-linecap:square;stroke-width:0.8;\"/>\r\n     </g>\r\n     <g id=\"line2d_24\">\r\n      <g>\r\n       <use style=\"stroke:#000000;stroke-width:0.8;\" x=\"39.65\" xlink:href=\"#m785a59cae7\" y=\"14.542894\"/>\r\n      </g>\r\n     </g>\r\n     <g id=\"text_12\">\r\n      <!-- 3000 -->\r\n      <defs>\r\n       <path d=\"M 40.578125 39.3125 \r\nQ 47.65625 37.796875 51.625 33 \r\nQ 55.609375 28.21875 55.609375 21.1875 \r\nQ 55.609375 10.40625 48.1875 4.484375 \r\nQ 40.765625 -1.421875 27.09375 -1.421875 \r\nQ 22.515625 -1.421875 17.65625 -0.515625 \r\nQ 12.796875 0.390625 7.625 2.203125 \r\nL 7.625 11.71875 \r\nQ 11.71875 9.328125 16.59375 8.109375 \r\nQ 21.484375 6.890625 26.8125 6.890625 \r\nQ 36.078125 6.890625 40.9375 10.546875 \r\nQ 45.796875 14.203125 45.796875 21.1875 \r\nQ 45.796875 27.640625 41.28125 31.265625 \r\nQ 36.765625 34.90625 28.71875 34.90625 \r\nL 20.21875 34.90625 \r\nL 20.21875 43.015625 \r\nL 29.109375 43.015625 \r\nQ 36.375 43.015625 40.234375 45.921875 \r\nQ 44.09375 48.828125 44.09375 54.296875 \r\nQ 44.09375 59.90625 40.109375 62.90625 \r\nQ 36.140625 65.921875 28.71875 65.921875 \r\nQ 24.65625 65.921875 20.015625 65.03125 \r\nQ 15.375 64.15625 9.8125 62.3125 \r\nL 9.8125 71.09375 \r\nQ 15.4375 72.65625 20.34375 73.4375 \r\nQ 25.25 74.21875 29.59375 74.21875 \r\nQ 40.828125 74.21875 47.359375 69.109375 \r\nQ 53.90625 64.015625 53.90625 55.328125 \r\nQ 53.90625 49.265625 50.4375 45.09375 \r\nQ 46.96875 40.921875 40.578125 39.3125 \r\nz\r\n\" id=\"DejaVuSans-51\"/>\r\n      </defs>\r\n      <g transform=\"translate(7.2 18.342113)scale(0.1 -0.1)\">\r\n       <use xlink:href=\"#DejaVuSans-51\"/>\r\n       <use x=\"63.623047\" xlink:href=\"#DejaVuSans-48\"/>\r\n       <use x=\"127.246094\" xlink:href=\"#DejaVuSans-48\"/>\r\n       <use x=\"190.869141\" xlink:href=\"#DejaVuSans-48\"/>\r\n      </g>\r\n     </g>\r\n    </g>\r\n   </g>\r\n   <g id=\"patch_23\">\r\n    <path d=\"M 39.65 224.64 \r\nL 39.65 7.2 \r\n\" style=\"fill:none;stroke:#000000;stroke-linecap:square;stroke-linejoin:miter;stroke-width:0.8;\"/>\r\n   </g>\r\n   <g id=\"patch_24\">\r\n    <path d=\"M 374.45 224.64 \r\nL 374.45 7.2 \r\n\" style=\"fill:none;stroke:#000000;stroke-linecap:square;stroke-linejoin:miter;stroke-width:0.8;\"/>\r\n   </g>\r\n   <g id=\"patch_25\">\r\n    <path d=\"M 39.65 224.64 \r\nL 374.45 224.64 \r\n\" style=\"fill:none;stroke:#000000;stroke-linecap:square;stroke-linejoin:miter;stroke-width:0.8;\"/>\r\n   </g>\r\n   <g id=\"patch_26\">\r\n    <path d=\"M 39.65 7.2 \r\nL 374.45 7.2 \r\n\" style=\"fill:none;stroke:#000000;stroke-linecap:square;stroke-linejoin:miter;stroke-width:0.8;\"/>\r\n   </g>\r\n  </g>\r\n </g>\r\n <defs>\r\n  <clipPath id=\"p41b80dbafd\">\r\n   <rect height=\"217.44\" width=\"334.8\" x=\"39.65\" y=\"7.2\"/>\r\n  </clipPath>\r\n </defs>\r\n</svg>\r\n",
      "image/png": "[encoded data removed]"
     },
     "metadata": {
      "needs_background": "light"
     }
    }
   ],
   "source": [
    "df['overall'].hist(bins = 20)"
   ]
  },
  {
   "source": [
    "**Análisis de los mejores jugadores por cada posición y el listado de los clubes con mayor overall**"
   ],
   "cell_type": "markdown",
   "metadata": {}
  },
  {
   "cell_type": "code",
   "execution_count": 134,
   "metadata": {},
   "outputs": [
    {
     "output_type": "execute_result",
     "data": {
      "text/plain": [
       "    team_position           short_name  overall\n",
       "2             CAM            Neymar Jr       92\n",
       "126            CB           S. de Vrij       84\n",
       "21            CDM      Sergio Busquets       89\n",
       "46             CF           K. Benzema       87\n",
       "123            CM         Luis Alberto       84\n",
       "3              GK             J. Oblak       91\n",
       "306           LAM               Taison       82\n",
       "51             LB           Jordi Alba       87\n",
       "7             LCB          V. van Dijk       90\n",
       "33            LCM          David Silva       88\n",
       "24            LDM             P. Pogba       88\n",
       "259            LF          K. Demirbay       82\n",
       "38             LM        P. Aubameyang       88\n",
       "54             LS           L. Insigne       87\n",
       "1              LW    Cristiano Ronaldo       93\n",
       "483           LWB       M. Halstenberg       80\n",
       "95            RAM            H. Ziyech       85\n",
       "61             RB           J. Kimmich       86\n",
       "29            RCB                Piqué       88\n",
       "5             RCM         K. De Bruyne       91\n",
       "78            RDM  S. Milinković-Savić       85\n",
       "93            RES            M. Icardi       85\n",
       "109            RF           K. Havertz       84\n",
       "27             RM           C. Eriksen       88\n",
       "104            RS           Iago Aspas       85\n",
       "0              RW             L. Messi       94\n",
       "476           RWB         P. Kadeřábek       80\n",
       "12             ST              H. Kane       89\n",
       "48            SUB           D. Mertens       87"
      ],
      "text/html": "<div>\n<style scoped>\n    .dataframe tbody tr th:only-of-type {\n        vertical-align: middle;\n    }\n\n    .dataframe tbody tr th {\n        vertical-align: top;\n    }\n\n    .dataframe thead th {\n        text-align: right;\n    }\n</style>\n<table border=\"1\" class=\"dataframe\">\n  <thead>\n    <tr style=\"text-align: right;\">\n      <th></th>\n      <th>team_position</th>\n      <th>short_name</th>\n      <th>overall</th>\n    </tr>\n  </thead>\n  <tbody>\n    <tr>\n      <th>2</th>\n      <td>CAM</td>\n      <td>Neymar Jr</td>\n      <td>92</td>\n    </tr>\n    <tr>\n      <th>126</th>\n      <td>CB</td>\n      <td>S. de Vrij</td>\n      <td>84</td>\n    </tr>\n    <tr>\n      <th>21</th>\n      <td>CDM</td>\n      <td>Sergio Busquets</td>\n      <td>89</td>\n    </tr>\n    <tr>\n      <th>46</th>\n      <td>CF</td>\n      <td>K. Benzema</td>\n      <td>87</td>\n    </tr>\n    <tr>\n      <th>123</th>\n      <td>CM</td>\n      <td>Luis Alberto</td>\n      <td>84</td>\n    </tr>\n    <tr>\n      <th>3</th>\n      <td>GK</td>\n      <td>J. Oblak</td>\n      <td>91</td>\n    </tr>\n    <tr>\n      <th>306</th>\n      <td>LAM</td>\n      <td>Taison</td>\n      <td>82</td>\n    </tr>\n    <tr>\n      <th>51</th>\n      <td>LB</td>\n      <td>Jordi Alba</td>\n      <td>87</td>\n    </tr>\n    <tr>\n      <th>7</th>\n      <td>LCB</td>\n      <td>V. van Dijk</td>\n      <td>90</td>\n    </tr>\n    <tr>\n      <th>33</th>\n      <td>LCM</td>\n      <td>David Silva</td>\n      <td>88</td>\n    </tr>\n    <tr>\n      <th>24</th>\n      <td>LDM</td>\n      <td>P. Pogba</td>\n      <td>88</td>\n    </tr>\n    <tr>\n      <th>259</th>\n      <td>LF</td>\n      <td>K. Demirbay</td>\n      <td>82</td>\n    </tr>\n    <tr>\n      <th>38</th>\n      <td>LM</td>\n      <td>P. Aubameyang</td>\n      <td>88</td>\n    </tr>\n    <tr>\n      <th>54</th>\n      <td>LS</td>\n      <td>L. Insigne</td>\n      <td>87</td>\n    </tr>\n    <tr>\n      <th>1</th>\n      <td>LW</td>\n      <td>Cristiano Ronaldo</td>\n      <td>93</td>\n    </tr>\n    <tr>\n      <th>483</th>\n      <td>LWB</td>\n      <td>M. Halstenberg</td>\n      <td>80</td>\n    </tr>\n    <tr>\n      <th>95</th>\n      <td>RAM</td>\n      <td>H. Ziyech</td>\n      <td>85</td>\n    </tr>\n    <tr>\n      <th>61</th>\n      <td>RB</td>\n      <td>J. Kimmich</td>\n      <td>86</td>\n    </tr>\n    <tr>\n      <th>29</th>\n      <td>RCB</td>\n      <td>Piqué</td>\n      <td>88</td>\n    </tr>\n    <tr>\n      <th>5</th>\n      <td>RCM</td>\n      <td>K. De Bruyne</td>\n      <td>91</td>\n    </tr>\n    <tr>\n      <th>78</th>\n      <td>RDM</td>\n      <td>S. Milinković-Savić</td>\n      <td>85</td>\n    </tr>\n    <tr>\n      <th>93</th>\n      <td>RES</td>\n      <td>M. Icardi</td>\n      <td>85</td>\n    </tr>\n    <tr>\n      <th>109</th>\n      <td>RF</td>\n      <td>K. Havertz</td>\n      <td>84</td>\n    </tr>\n    <tr>\n      <th>27</th>\n      <td>RM</td>\n      <td>C. Eriksen</td>\n      <td>88</td>\n    </tr>\n    <tr>\n      <th>104</th>\n      <td>RS</td>\n      <td>Iago Aspas</td>\n      <td>85</td>\n    </tr>\n    <tr>\n      <th>0</th>\n      <td>RW</td>\n      <td>L. Messi</td>\n      <td>94</td>\n    </tr>\n    <tr>\n      <th>476</th>\n      <td>RWB</td>\n      <td>P. Kadeřábek</td>\n      <td>80</td>\n    </tr>\n    <tr>\n      <th>12</th>\n      <td>ST</td>\n      <td>H. Kane</td>\n      <td>89</td>\n    </tr>\n    <tr>\n      <th>48</th>\n      <td>SUB</td>\n      <td>D. Mertens</td>\n      <td>87</td>\n    </tr>\n  </tbody>\n</table>\n</div>"
     },
     "metadata": {},
     "execution_count": 134
    }
   ],
   "source": [
    "best_players_per_position=df.iloc[df.groupby(df['team_position'])['overall'].idxmax()][['team_position','short_name','overall']]\n",
    "best_players_per_position"
   ]
  },
  {
   "cell_type": "code",
   "execution_count": 135,
   "metadata": {},
   "outputs": [
    {
     "output_type": "execute_result",
     "data": {
      "text/plain": [
       "                  club    overall\n",
       "226  FC Bayern München  81.304348\n",
       "505        Real Madrid  80.121212\n",
       "350           Juventus  80.060606\n",
       "650            Uruguay  78.608696\n",
       "224       FC Barcelona  78.363636\n",
       "407             Mexico  78.000000\n",
       "426        Netherlands  78.000000\n",
       "166           Colombia  78.000000"
      ],
      "text/html": "<div>\n<style scoped>\n    .dataframe tbody tr th:only-of-type {\n        vertical-align: middle;\n    }\n\n    .dataframe tbody tr th {\n        vertical-align: top;\n    }\n\n    .dataframe thead th {\n        text-align: right;\n    }\n</style>\n<table border=\"1\" class=\"dataframe\">\n  <thead>\n    <tr style=\"text-align: right;\">\n      <th></th>\n      <th>club</th>\n      <th>overall</th>\n    </tr>\n  </thead>\n  <tbody>\n    <tr>\n      <th>226</th>\n      <td>FC Bayern München</td>\n      <td>81.304348</td>\n    </tr>\n    <tr>\n      <th>505</th>\n      <td>Real Madrid</td>\n      <td>80.121212</td>\n    </tr>\n    <tr>\n      <th>350</th>\n      <td>Juventus</td>\n      <td>80.060606</td>\n    </tr>\n    <tr>\n      <th>650</th>\n      <td>Uruguay</td>\n      <td>78.608696</td>\n    </tr>\n    <tr>\n      <th>224</th>\n      <td>FC Barcelona</td>\n      <td>78.363636</td>\n    </tr>\n    <tr>\n      <th>407</th>\n      <td>Mexico</td>\n      <td>78.000000</td>\n    </tr>\n    <tr>\n      <th>426</th>\n      <td>Netherlands</td>\n      <td>78.000000</td>\n    </tr>\n    <tr>\n      <th>166</th>\n      <td>Colombia</td>\n      <td>78.000000</td>\n    </tr>\n  </tbody>\n</table>\n</div>"
     },
     "metadata": {},
     "execution_count": 135
    }
   ],
   "source": [
    "club_avg_overall=df.groupby(\"club\")[\"overall\"].mean().reset_index().sort_values(\"overall\",ascending=False)\n",
    "club_avg_overall.head(8)"
   ]
  },
  {
   "cell_type": "code",
   "execution_count": null,
   "metadata": {},
   "outputs": [],
   "source": [
    "**Selección de columnas a utilizar para análisis y agrupamiento**\n",
    "Se trabajará con 40 columnas del dataset, "
   ]
  },
  {
   "source": [
    "**A continuación se realiza un análisis de las distinas skills "
   ],
   "cell_type": "code",
   "metadata": {},
   "execution_count": null,
   "outputs": []
  },
  {
   "cell_type": "code",
   "execution_count": 136,
   "metadata": {},
   "outputs": [],
   "source": [
    "# Se hace una copia del dataset tomando sólo los que tienen overall mayor a 70 y que no sean arqueros\n",
    "df_to_copy = df[(df['team_position'] != 'GK') & (df['overall'] > 70)]\n",
    "\n",
    "df_copy = df_to_copy.copy()"
   ]
  },
  {
   "cell_type": "code",
   "execution_count": 137,
   "metadata": {},
   "outputs": [
    {
     "output_type": "execute_result",
     "data": {
      "text/plain": [
       "  team_position     skill  value\n",
       "0            RW  shooting   92.0\n",
       "1            LW  shooting   93.0\n",
       "2           CAM  shooting   85.0\n",
       "3            LW  shooting   83.0\n",
       "4           RCM  shooting   86.0\n",
       "5           LCB  shooting   60.0\n",
       "6           RCM  shooting   76.0\n",
       "7            RW  shooting   86.0\n",
       "8            RW  shooting   84.0\n",
       "9           LCB  shooting   28.0"
      ],
      "text/html": "<div>\n<style scoped>\n    .dataframe tbody tr th:only-of-type {\n        vertical-align: middle;\n    }\n\n    .dataframe tbody tr th {\n        vertical-align: top;\n    }\n\n    .dataframe thead th {\n        text-align: right;\n    }\n</style>\n<table border=\"1\" class=\"dataframe\">\n  <thead>\n    <tr style=\"text-align: right;\">\n      <th></th>\n      <th>team_position</th>\n      <th>skill</th>\n      <th>value</th>\n    </tr>\n  </thead>\n  <tbody>\n    <tr>\n      <th>0</th>\n      <td>RW</td>\n      <td>shooting</td>\n      <td>92.0</td>\n    </tr>\n    <tr>\n      <th>1</th>\n      <td>LW</td>\n      <td>shooting</td>\n      <td>93.0</td>\n    </tr>\n    <tr>\n      <th>2</th>\n      <td>CAM</td>\n      <td>shooting</td>\n      <td>85.0</td>\n    </tr>\n    <tr>\n      <th>3</th>\n      <td>LW</td>\n      <td>shooting</td>\n      <td>83.0</td>\n    </tr>\n    <tr>\n      <th>4</th>\n      <td>RCM</td>\n      <td>shooting</td>\n      <td>86.0</td>\n    </tr>\n    <tr>\n      <th>5</th>\n      <td>LCB</td>\n      <td>shooting</td>\n      <td>60.0</td>\n    </tr>\n    <tr>\n      <th>6</th>\n      <td>RCM</td>\n      <td>shooting</td>\n      <td>76.0</td>\n    </tr>\n    <tr>\n      <th>7</th>\n      <td>RW</td>\n      <td>shooting</td>\n      <td>86.0</td>\n    </tr>\n    <tr>\n      <th>8</th>\n      <td>RW</td>\n      <td>shooting</td>\n      <td>84.0</td>\n    </tr>\n    <tr>\n      <th>9</th>\n      <td>LCB</td>\n      <td>shooting</td>\n      <td>28.0</td>\n    </tr>\n  </tbody>\n</table>\n</div>"
     },
     "metadata": {},
     "execution_count": 137
    }
   ],
   "source": [
    "# Se hace un melt del dataframe a partir de las skills del dataframe copiado (no se tienen en cuenta arqueros) y se quitan los valores nulos\n",
    "df_to_melt = df_copy[[\n",
    " 'team_position', #0\n",
    " 'shooting', #1\n",
    " 'passing', #2\n",
    " 'dribbling', #3\n",
    " 'defending', #4\n",
    " 'attacking_crossing', #11\n",
    " 'attacking_finishing', #12\n",
    " 'attacking_heading_accuracy', #13\n",
    " 'attacking_short_passing', #14\n",
    " 'attacking_volleys', #15\n",
    " 'skill_dribbling', #16\n",
    " 'skill_curve', #17\n",
    " 'skill_fk_accuracy', #18\n",
    " 'skill_long_passing', #19\n",
    " 'skill_ball_control', #20\n",
    " 'movement_acceleration', #21\n",
    " 'movement_sprint_speed', #22\n",
    " 'movement_agility', #23\n",
    " 'movement_reactions', #24\n",
    " 'movement_balance', #25\n",
    " 'power_shot_power', #26\n",
    " 'power_jumping', #27\n",
    " 'power_stamina', #28\n",
    " 'power_strength', #29\n",
    " 'power_long_shots', #30\n",
    " 'mentality_aggression', #31\n",
    " 'mentality_interceptions', #32\n",
    " 'mentality_positioning', #33\n",
    " 'mentality_vision', #34\n",
    " 'mentality_penalties', #35\n",
    " 'mentality_composure', #36\n",
    " 'defending_marking', #37\n",
    " 'defending_standing_tackle', #38\n",
    " 'defending_sliding_tackle' #39\n",
    "]] \n",
    "\n",
    "df_melt = df_to_melt.melt(id_vars=[\"team_position\"], \n",
    "        var_name=\"skill\", \n",
    "        value_name=\"value\")\n",
    "\n",
    "df_melt.dropna(subset=[\"value\"], inplace=True)\n",
    "df_melt.head(10)"
   ]
  },
  {
   "cell_type": "code",
   "execution_count": 138,
   "metadata": {},
   "outputs": [],
   "source": [
    "# Calulamos el valor medio de cada skill agrupando por posición.\n",
    "df_melt = df_melt.groupby(['team_position', 'skill'], as_index=False).mean().astype({\"value\" : int})"
   ]
  }
 ]
}